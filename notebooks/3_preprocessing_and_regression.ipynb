{
 "cells": [
  {
   "cell_type": "markdown",
   "id": "spread-glucose",
   "metadata": {},
   "source": [
    "# Подготовка данных"
   ]
  },
  {
   "cell_type": "markdown",
   "id": "brave-nelson",
   "metadata": {},
   "source": [
    "## Импорт данных"
   ]
  },
  {
   "cell_type": "code",
   "execution_count": 1,
   "id": "bibliographic-iceland",
   "metadata": {},
   "outputs": [
    {
     "data": {
      "text/html": [
       "<div>\n",
       "<style scoped>\n",
       "    .dataframe tbody tr th:only-of-type {\n",
       "        vertical-align: middle;\n",
       "    }\n",
       "\n",
       "    .dataframe tbody tr th {\n",
       "        vertical-align: top;\n",
       "    }\n",
       "\n",
       "    .dataframe thead th {\n",
       "        text-align: right;\n",
       "    }\n",
       "</style>\n",
       "<table border=\"1\" class=\"dataframe\">\n",
       "  <thead>\n",
       "    <tr style=\"text-align: right;\">\n",
       "      <th></th>\n",
       "      <th>myct</th>\n",
       "      <th>mmin</th>\n",
       "      <th>mmax</th>\n",
       "      <th>cach</th>\n",
       "      <th>chmin</th>\n",
       "      <th>chmax</th>\n",
       "      <th>prp</th>\n",
       "      <th>erp</th>\n",
       "      <th>vendor_adviser</th>\n",
       "      <th>vendor_amdahl</th>\n",
       "      <th>...</th>\n",
       "      <th>vendor_microdata</th>\n",
       "      <th>vendor_nas</th>\n",
       "      <th>vendor_ncr</th>\n",
       "      <th>vendor_nixdorf</th>\n",
       "      <th>vendor_perkin-elmer</th>\n",
       "      <th>vendor_prime</th>\n",
       "      <th>vendor_siemens</th>\n",
       "      <th>vendor_sperry</th>\n",
       "      <th>vendor_sratus</th>\n",
       "      <th>vendor_wang</th>\n",
       "    </tr>\n",
       "  </thead>\n",
       "  <tbody>\n",
       "    <tr>\n",
       "      <th>0</th>\n",
       "      <td>125</td>\n",
       "      <td>256</td>\n",
       "      <td>6000</td>\n",
       "      <td>256</td>\n",
       "      <td>16</td>\n",
       "      <td>128</td>\n",
       "      <td>198</td>\n",
       "      <td>199</td>\n",
       "      <td>1</td>\n",
       "      <td>0</td>\n",
       "      <td>...</td>\n",
       "      <td>0</td>\n",
       "      <td>0</td>\n",
       "      <td>0</td>\n",
       "      <td>0</td>\n",
       "      <td>0</td>\n",
       "      <td>0</td>\n",
       "      <td>0</td>\n",
       "      <td>0</td>\n",
       "      <td>0</td>\n",
       "      <td>0</td>\n",
       "    </tr>\n",
       "    <tr>\n",
       "      <th>1</th>\n",
       "      <td>29</td>\n",
       "      <td>8000</td>\n",
       "      <td>32000</td>\n",
       "      <td>32</td>\n",
       "      <td>8</td>\n",
       "      <td>32</td>\n",
       "      <td>269</td>\n",
       "      <td>253</td>\n",
       "      <td>0</td>\n",
       "      <td>1</td>\n",
       "      <td>...</td>\n",
       "      <td>0</td>\n",
       "      <td>0</td>\n",
       "      <td>0</td>\n",
       "      <td>0</td>\n",
       "      <td>0</td>\n",
       "      <td>0</td>\n",
       "      <td>0</td>\n",
       "      <td>0</td>\n",
       "      <td>0</td>\n",
       "      <td>0</td>\n",
       "    </tr>\n",
       "    <tr>\n",
       "      <th>2</th>\n",
       "      <td>29</td>\n",
       "      <td>8000</td>\n",
       "      <td>32000</td>\n",
       "      <td>32</td>\n",
       "      <td>8</td>\n",
       "      <td>32</td>\n",
       "      <td>220</td>\n",
       "      <td>253</td>\n",
       "      <td>0</td>\n",
       "      <td>1</td>\n",
       "      <td>...</td>\n",
       "      <td>0</td>\n",
       "      <td>0</td>\n",
       "      <td>0</td>\n",
       "      <td>0</td>\n",
       "      <td>0</td>\n",
       "      <td>0</td>\n",
       "      <td>0</td>\n",
       "      <td>0</td>\n",
       "      <td>0</td>\n",
       "      <td>0</td>\n",
       "    </tr>\n",
       "    <tr>\n",
       "      <th>3</th>\n",
       "      <td>29</td>\n",
       "      <td>8000</td>\n",
       "      <td>32000</td>\n",
       "      <td>32</td>\n",
       "      <td>8</td>\n",
       "      <td>32</td>\n",
       "      <td>172</td>\n",
       "      <td>253</td>\n",
       "      <td>0</td>\n",
       "      <td>1</td>\n",
       "      <td>...</td>\n",
       "      <td>0</td>\n",
       "      <td>0</td>\n",
       "      <td>0</td>\n",
       "      <td>0</td>\n",
       "      <td>0</td>\n",
       "      <td>0</td>\n",
       "      <td>0</td>\n",
       "      <td>0</td>\n",
       "      <td>0</td>\n",
       "      <td>0</td>\n",
       "    </tr>\n",
       "    <tr>\n",
       "      <th>4</th>\n",
       "      <td>29</td>\n",
       "      <td>8000</td>\n",
       "      <td>16000</td>\n",
       "      <td>32</td>\n",
       "      <td>8</td>\n",
       "      <td>16</td>\n",
       "      <td>132</td>\n",
       "      <td>132</td>\n",
       "      <td>0</td>\n",
       "      <td>1</td>\n",
       "      <td>...</td>\n",
       "      <td>0</td>\n",
       "      <td>0</td>\n",
       "      <td>0</td>\n",
       "      <td>0</td>\n",
       "      <td>0</td>\n",
       "      <td>0</td>\n",
       "      <td>0</td>\n",
       "      <td>0</td>\n",
       "      <td>0</td>\n",
       "      <td>0</td>\n",
       "    </tr>\n",
       "  </tbody>\n",
       "</table>\n",
       "<p>5 rows × 38 columns</p>\n",
       "</div>"
      ],
      "text/plain": [
       "   myct  mmin   mmax  cach  chmin  chmax  prp  erp  vendor_adviser  \\\n",
       "0   125   256   6000   256     16    128  198  199               1   \n",
       "1    29  8000  32000    32      8     32  269  253               0   \n",
       "2    29  8000  32000    32      8     32  220  253               0   \n",
       "3    29  8000  32000    32      8     32  172  253               0   \n",
       "4    29  8000  16000    32      8     16  132  132               0   \n",
       "\n",
       "   vendor_amdahl  ...  vendor_microdata  vendor_nas  vendor_ncr  \\\n",
       "0              0  ...                 0           0           0   \n",
       "1              1  ...                 0           0           0   \n",
       "2              1  ...                 0           0           0   \n",
       "3              1  ...                 0           0           0   \n",
       "4              1  ...                 0           0           0   \n",
       "\n",
       "   vendor_nixdorf  vendor_perkin-elmer  vendor_prime  vendor_siemens  \\\n",
       "0               0                    0             0               0   \n",
       "1               0                    0             0               0   \n",
       "2               0                    0             0               0   \n",
       "3               0                    0             0               0   \n",
       "4               0                    0             0               0   \n",
       "\n",
       "   vendor_sperry  vendor_sratus  vendor_wang  \n",
       "0              0              0            0  \n",
       "1              0              0            0  \n",
       "2              0              0            0  \n",
       "3              0              0            0  \n",
       "4              0              0            0  \n",
       "\n",
       "[5 rows x 38 columns]"
      ]
     },
     "execution_count": 1,
     "metadata": {},
     "output_type": "execute_result"
    }
   ],
   "source": [
    "import pandas as pd\n",
    "dataset = pd.read_csv('../data/machine_preprocessed.csv')\n",
    "dataset.head()"
   ]
  },
  {
   "cell_type": "markdown",
   "id": "persistent-palestine",
   "metadata": {},
   "source": [
    "## Аномалии"
   ]
  },
  {
   "cell_type": "markdown",
   "id": "passive-research",
   "metadata": {},
   "source": [
    "Исходя из графиков визуализации данных, выполненных в файле 1_visualization можно предположить, что в данных присутствуют аномалии, однако данный датасет составлялся не на основе сбора данных людей, а на основе конкретных технических характеристик процессоров, в связи с этим нельзя отбросить какие-либо данные"
   ]
  },
  {
   "cell_type": "markdown",
   "id": "empirical-cleaners",
   "metadata": {},
   "source": [
    "## Разбиение данных"
   ]
  },
  {
   "cell_type": "markdown",
   "id": "casual-canvas",
   "metadata": {},
   "source": [
    "Для начала разобьем данные на множество описаний объектов и множество меток:"
   ]
  },
  {
   "cell_type": "code",
   "execution_count": 2,
   "id": "handed-chick",
   "metadata": {},
   "outputs": [],
   "source": [
    "X = dataset.drop('erp', 1).values\n",
    "y = dataset['erp'].values"
   ]
  },
  {
   "cell_type": "markdown",
   "id": "prescribed-battery",
   "metadata": {},
   "source": [
    "Разобьем на обучающую и тестовую выборки:"
   ]
  },
  {
   "cell_type": "code",
   "execution_count": 37,
   "id": "american-eagle",
   "metadata": {},
   "outputs": [],
   "source": [
    "from sklearn.model_selection import train_test_split\n",
    "\n",
    "X_train, X_test, y_train, y_test = train_test_split(X, y, test_size=0.20, random_state = 42)"
   ]
  },
  {
   "cell_type": "markdown",
   "id": "hawaiian-pound",
   "metadata": {},
   "source": [
    "# Регрессия"
   ]
  },
  {
   "cell_type": "markdown",
   "id": "quantitative-kelly",
   "metadata": {},
   "source": [
    "Функция для вывода значений оценки"
   ]
  },
  {
   "cell_type": "code",
   "execution_count": 38,
   "id": "endless-green",
   "metadata": {},
   "outputs": [],
   "source": [
    "from sklearn.metrics import mean_squared_error, mean_absolute_error\n",
    "\n",
    "def predict_estimation(estimator, y_test, y_pred):\n",
    "    print(\"R^2 = \", estimator.score(X, y))\n",
    "    print(\"MSE = \", mean_squared_error(y_test, y_pred))\n",
    "    print(\"RMSE = \", mean_squared_error(y_test, y_pred, squared = False))\n",
    "    print(\"MAE = \", mean_absolute_error(y_test, y_pred))"
   ]
  },
  {
   "cell_type": "markdown",
   "id": "effective-irish",
   "metadata": {},
   "source": [
    "## Linear Regression"
   ]
  },
  {
   "cell_type": "markdown",
   "id": "silver-indonesian",
   "metadata": {},
   "source": [
    "Документация:"
   ]
  },
  {
   "cell_type": "markdown",
   "id": "working-unknown",
   "metadata": {},
   "source": [
    "https://scikit-learn.org/stable/modules/generated/sklearn.linear_model.LinearRegression.html"
   ]
  },
  {
   "cell_type": "markdown",
   "id": "laden-train",
   "metadata": {},
   "source": [
    "Обучение модели:"
   ]
  },
  {
   "cell_type": "code",
   "execution_count": 39,
   "id": "located-appraisal",
   "metadata": {},
   "outputs": [
    {
     "data": {
      "text/plain": [
       "LinearRegression()"
      ]
     },
     "execution_count": 39,
     "metadata": {},
     "output_type": "execute_result"
    }
   ],
   "source": [
    "from sklearn.linear_model import LinearRegression\n",
    "\n",
    "lr = LinearRegression()\n",
    "lr.fit(X_train, y_train)"
   ]
  },
  {
   "cell_type": "markdown",
   "id": "engaging-tours",
   "metadata": {},
   "source": [
    "Оценим качество модели:"
   ]
  },
  {
   "cell_type": "code",
   "execution_count": 40,
   "id": "guilty-congo",
   "metadata": {},
   "outputs": [
    {
     "name": "stdout",
     "output_type": "stream",
     "text": [
      "R^2 =  0.9579022762171572\n",
      "MSE =  2842.4438642431314\n",
      "RMSE =  53.31457459497479\n",
      "MAE =  24.364680859035552\n"
     ]
    }
   ],
   "source": [
    "predict_estimation(lr, y_test, lr.predict(X_test))"
   ]
  },
  {
   "cell_type": "markdown",
   "id": "functioning-citizenship",
   "metadata": {},
   "source": [
    "Выведем полученные и предполагаемые значения:"
   ]
  },
  {
   "cell_type": "code",
   "execution_count": 57,
   "id": "twenty-certification",
   "metadata": {},
   "outputs": [
    {
     "name": "stdout",
     "output_type": "stream",
     "text": [
      "[166.4020012   31.768259    11.55547183 782.46187472  33.51170553\n",
      " 300.58452334  43.033258    -5.66443436 946.34848287 236.10516337\n",
      "  95.83582609 128.58227406  39.86281274  24.40447689  87.47569573\n",
      "   8.78753014  62.45653232   4.3598919  155.42621044 101.30109955\n",
      "  54.81084671  54.58844002 120.08776487  27.63989149   8.64004026\n",
      "  27.47850058  30.99645211  -4.41609568   2.7576834   87.91506789\n",
      " 270.55222691  31.01185511  21.38929372   9.3809198    3.40627302\n",
      "  46.05163593  66.00122283 387.59753727  85.78980166  16.53707066\n",
      " 297.35705539  50.6796723 ]\n",
      "[ 102   25   25  919   34  267   41   19 1238  227   88   99   41   44\n",
      "   64   23   80   22  142   82   52   56  119   26   17   41   21   30\n",
      "   23   67  275   33   35   20   20   46   47  361   73   26  341   47]\n"
     ]
    }
   ],
   "source": [
    "print(lr.predict(X_test))\n",
    "print(y_test)"
   ]
  },
  {
   "cell_type": "markdown",
   "id": "guided-addition",
   "metadata": {},
   "source": [
    "Для данного метода отсутсвуют гиперпараметры"
   ]
  },
  {
   "cell_type": "markdown",
   "id": "restricted-collect",
   "metadata": {},
   "source": [
    "## Decision Tree Regressor"
   ]
  },
  {
   "cell_type": "markdown",
   "id": "ignored-forward",
   "metadata": {},
   "source": [
    "Документация:"
   ]
  },
  {
   "cell_type": "markdown",
   "id": "nervous-brush",
   "metadata": {},
   "source": [
    "https://scikit-learn.org/stable/modules/generated/sklearn.tree.DecisionTreeRegressor.html"
   ]
  },
  {
   "cell_type": "markdown",
   "id": "adequate-strike",
   "metadata": {},
   "source": [
    "Обучение модели:"
   ]
  },
  {
   "cell_type": "code",
   "execution_count": 55,
   "id": "moved-american",
   "metadata": {},
   "outputs": [
    {
     "data": {
      "text/plain": [
       "DecisionTreeRegressor()"
      ]
     },
     "execution_count": 55,
     "metadata": {},
     "output_type": "execute_result"
    }
   ],
   "source": [
    "from sklearn.tree import DecisionTreeRegressor\n",
    "\n",
    "dtr = DecisionTreeRegressor()\n",
    "dtr.fit(X_train, y_train)"
   ]
  },
  {
   "cell_type": "markdown",
   "id": "public-chester",
   "metadata": {},
   "source": [
    "Оценим качество модели:"
   ]
  },
  {
   "cell_type": "code",
   "execution_count": 58,
   "id": "aquatic-chick",
   "metadata": {},
   "outputs": [
    {
     "name": "stdout",
     "output_type": "stream",
     "text": [
      "R^2 =  0.9432817120140219\n",
      "MSE =  6727.261904761905\n",
      "RMSE =  82.01988725158006\n",
      "MAE =  25.071428571428573\n"
     ]
    }
   ],
   "source": [
    "predict_estimation(dtr, y_test, dtr.predict(X_test))"
   ]
  },
  {
   "cell_type": "markdown",
   "id": "rural-orchestra",
   "metadata": {},
   "source": [
    "Выведем полученные и предполагаемые значения:"
   ]
  },
  {
   "cell_type": "code",
   "execution_count": 59,
   "id": "driving-suspect",
   "metadata": {},
   "outputs": [
    {
     "name": "stdout",
     "output_type": "stream",
     "text": [
      "[102.  24.  28. 978.  34. 270.  38.  18. 749. 181.  88. 117.  39.  44.\n",
      "  64.  24.  56.  21. 117. 117.  50.  50. 117.  28.  18.  44.  20.  28.\n",
      "  22.  50. 183.  31.  41.  20.  20.  46.  53. 381.  64.  28. 181.  39.]\n",
      "[ 102   25   25  919   34  267   41   19 1238  227   88   99   41   44\n",
      "   64   23   80   22  142   82   52   56  119   26   17   41   21   30\n",
      "   23   67  275   33   35   20   20   46   47  361   73   26  341   47]\n"
     ]
    }
   ],
   "source": [
    "print(dtr.predict(X_test))\n",
    "print(y_test)"
   ]
  },
  {
   "cell_type": "markdown",
   "id": "congressional-vietnam",
   "metadata": {},
   "source": [
    "Найдем наилучие гиперпараметры:"
   ]
  },
  {
   "cell_type": "code",
   "execution_count": 63,
   "id": "common-executive",
   "metadata": {},
   "outputs": [
    {
     "name": "stdout",
     "output_type": "stream",
     "text": [
      "Best Hyperparameters:\n",
      "{'criterion': 'mae', 'max_depth': 6, 'max_leaf_nodes': 20, 'min_samples_leaf': 20, 'min_samples_split': 10}\n"
     ]
    }
   ],
   "source": [
    "from sklearn.model_selection import GridSearchCV\n",
    "param_grid = {\"criterion\": [\"mse\", \"mae\"],\n",
    "              \"min_samples_split\": [10, 20, 40],\n",
    "              \"max_depth\": [2, 6, 8],\n",
    "              \"min_samples_leaf\": [20, 40, 100],\n",
    "              \"max_leaf_nodes\": [5, 20, 100],\n",
    "              }\n",
    "grid_cv_dtr = GridSearchCV(dtr, param_grid, cv=5).fit(X,y)\n",
    "print(\"Best Hyperparameters:\\n{}\".format(grid_cv_dtr.best_params_))"
   ]
  },
  {
   "cell_type": "markdown",
   "id": "weird-dinner",
   "metadata": {},
   "source": [
    "## Lasso"
   ]
  },
  {
   "cell_type": "markdown",
   "id": "statewide-advisory",
   "metadata": {},
   "source": [
    "Документация:"
   ]
  },
  {
   "cell_type": "markdown",
   "id": "deluxe-orbit",
   "metadata": {},
   "source": [
    "https://scikit-learn.org/stable/modules/generated/sklearn.linear_model.Lasso.html#sklearn.linear_model.Lasso"
   ]
  },
  {
   "cell_type": "markdown",
   "id": "synthetic-cabin",
   "metadata": {},
   "source": [
    "Обучение модели:"
   ]
  },
  {
   "cell_type": "code",
   "execution_count": 43,
   "id": "mexican-banks",
   "metadata": {},
   "outputs": [
    {
     "data": {
      "text/plain": [
       "Lasso()"
      ]
     },
     "execution_count": 43,
     "metadata": {},
     "output_type": "execute_result"
    }
   ],
   "source": [
    "from sklearn.linear_model import Lasso\n",
    "\n",
    "lo = Lasso()\n",
    "lo.fit(X_train, y_train)"
   ]
  },
  {
   "cell_type": "markdown",
   "id": "israeli-snowboard",
   "metadata": {},
   "source": [
    "Оценим качество модели:"
   ]
  },
  {
   "cell_type": "code",
   "execution_count": 44,
   "id": "little-outside",
   "metadata": {},
   "outputs": [
    {
     "name": "stdout",
     "output_type": "stream",
     "text": [
      "R^2 =  0.9520313863482137\n",
      "MSE =  2984.9146055903616\n",
      "RMSE =  54.634372016070266\n",
      "MAE =  25.428425431961625\n"
     ]
    }
   ],
   "source": [
    "predict_estimation(lo, y_test, lo.predict(X_test))"
   ]
  },
  {
   "cell_type": "markdown",
   "id": "varying-arthur",
   "metadata": {},
   "source": [
    "Выведем полученные и предполагаемые значения:"
   ]
  },
  {
   "cell_type": "code",
   "execution_count": 54,
   "id": "historic-albuquerque",
   "metadata": {},
   "outputs": [
    {
     "name": "stdout",
     "output_type": "stream",
     "text": [
      "[ 1.62145206e+02  1.15864671e+01  1.20909336e+01  7.68366620e+02\n",
      "  3.81826708e+01  3.11170198e+02  5.00216135e+01 -1.02450972e+01\n",
      "  9.44780178e+02  2.33398592e+02  8.53966285e+01  1.25923046e+02\n",
      "  4.16445289e+01  3.64465288e+01  6.67437367e+01  1.62515637e+01\n",
      "  5.72160960e+01  3.91036977e+00  1.35267854e+02  1.15814531e+02\n",
      "  6.15784976e+01  6.02826123e+01  1.26425262e+02  2.87946414e+01\n",
      "  1.01324058e+01  3.93155203e+01  2.52448786e+01  8.96813783e+00\n",
      " -2.41511980e-01  5.76047902e+01  2.71005320e+02  1.86026673e+01\n",
      "  2.70066657e+01 -3.40314827e+00  7.47110935e+00  3.06662756e+01\n",
      "  6.25414063e+01  4.04145841e+02  9.39012537e+01  1.09655320e+00\n",
      "  3.07648694e+02  3.70230259e+01]\n",
      "[ 102   25   25  919   34  267   41   19 1238  227   88   99   41   44\n",
      "   64   23   80   22  142   82   52   56  119   26   17   41   21   30\n",
      "   23   67  275   33   35   20   20   46   47  361   73   26  341   47]\n"
     ]
    }
   ],
   "source": [
    "print(lo.predict(X_test))\n",
    "print(y_test)"
   ]
  },
  {
   "cell_type": "markdown",
   "id": "alternative-crest",
   "metadata": {},
   "source": [
    "Найдем наилучие гиперпараметры:"
   ]
  },
  {
   "cell_type": "code",
   "execution_count": 73,
   "id": "cosmetic-authorization",
   "metadata": {},
   "outputs": [
    {
     "name": "stdout",
     "output_type": "stream",
     "text": [
      "Best Hyperparameters:\n",
      "{'alpha': 0.03}\n"
     ]
    }
   ],
   "source": [
    "param_grid = {'alpha':[0.02, 0.024, 0.025, 0.026, 0.03]}\n",
    "grid_cv_lo = GridSearchCV(lo, param_grid).fit(X,y)\n",
    "print(\"Best Hyperparameters:\\n{}\".format(grid_cv_lo.best_params_))"
   ]
  },
  {
   "cell_type": "markdown",
   "id": "knowing-problem",
   "metadata": {},
   "source": [
    "## Ridge"
   ]
  },
  {
   "cell_type": "markdown",
   "id": "excellent-history",
   "metadata": {},
   "source": [
    "Документация:"
   ]
  },
  {
   "cell_type": "markdown",
   "id": "everyday-sheffield",
   "metadata": {},
   "source": [
    "https://scikit-learn.org/stable/modules/generated/sklearn.linear_model.Ridge.html#sklearn.linear_model.Ridge"
   ]
  },
  {
   "cell_type": "markdown",
   "id": "blind-retailer",
   "metadata": {},
   "source": [
    "Обучение модели:"
   ]
  },
  {
   "cell_type": "code",
   "execution_count": 47,
   "id": "collective-percentage",
   "metadata": {},
   "outputs": [
    {
     "data": {
      "text/plain": [
       "Ridge()"
      ]
     },
     "execution_count": 47,
     "metadata": {},
     "output_type": "execute_result"
    }
   ],
   "source": [
    "from sklearn.linear_model import Ridge\n",
    "\n",
    "rg = Ridge()\n",
    "rg.fit(X_train, y_train)"
   ]
  },
  {
   "cell_type": "markdown",
   "id": "excellent-wedding",
   "metadata": {},
   "source": [
    "Оценим качество модели:"
   ]
  },
  {
   "cell_type": "code",
   "execution_count": 48,
   "id": "plain-whale",
   "metadata": {},
   "outputs": [
    {
     "name": "stdout",
     "output_type": "stream",
     "text": [
      "R^2 =  0.9583257786465182\n",
      "MSE =  2752.702496109876\n",
      "RMSE =  52.46620337045435\n",
      "MAE =  23.543692073153185\n"
     ]
    }
   ],
   "source": [
    "predict_estimation(rg, y_test, rg.predict(X_test))"
   ]
  },
  {
   "cell_type": "markdown",
   "id": "patient-blond",
   "metadata": {},
   "source": [
    "Выведем полученные и предполагаемые значения:"
   ]
  },
  {
   "cell_type": "code",
   "execution_count": 52,
   "id": "intimate-synthetic",
   "metadata": {},
   "outputs": [
    {
     "name": "stdout",
     "output_type": "stream",
     "text": [
      "[ 1.61869096e+02  2.23095854e+01  1.24742743e+01  7.79666931e+02\n",
      "  3.55498454e+01  3.01961215e+02  4.46876249e+01 -6.81405613e+00\n",
      "  9.51414530e+02  2.37127306e+02  9.34803635e+01  1.27626772e+02\n",
      "  4.07952338e+01  2.77201314e+01  7.58519148e+01  1.06280869e+01\n",
      "  6.41295605e+01  4.54212687e+00  1.53145774e+02  1.03634798e+02\n",
      "  5.60335386e+01  5.53850039e+01  1.19533352e+02  2.70389823e+01\n",
      "  8.21423539e+00  2.94699804e+01  3.06398459e+01 -4.73392619e-01\n",
      "  1.96787488e+00  7.43734298e+01  2.70389067e+02  2.86561972e+01\n",
      "  2.04526063e+01  6.95792183e+00  3.28379210e+00  4.24793938e+01\n",
      "  6.69426790e+01  3.92014692e+02  8.64510262e+01  1.57363203e+01\n",
      "  3.00561670e+02  5.08198841e+01]\n",
      "[ 102   25   25  919   34  267   41   19 1238  227   88   99   41   44\n",
      "   64   23   80   22  142   82   52   56  119   26   17   41   21   30\n",
      "   23   67  275   33   35   20   20   46   47  361   73   26  341   47]\n"
     ]
    }
   ],
   "source": [
    "print(rg.predict(X_test))\n",
    "print(y_test)"
   ]
  },
  {
   "cell_type": "markdown",
   "id": "thick-jewelry",
   "metadata": {},
   "source": [
    "Найдем наилучие гиперпараметры:"
   ]
  },
  {
   "cell_type": "code",
   "execution_count": 74,
   "id": "herbal-private",
   "metadata": {},
   "outputs": [
    {
     "name": "stdout",
     "output_type": "stream",
     "text": [
      "Best Hyperparameters:\n",
      "{'alpha': 500}\n"
     ]
    }
   ],
   "source": [
    "param_grid = {'alpha':[200, 230, 250, 265, 270, 275, 290, 300, 500]}\n",
    "grid_cv_rg = GridSearchCV(rg, param_grid).fit(X,y)\n",
    "print(\"Best Hyperparameters:\\n{}\".format(grid_cv_rg.best_params_))"
   ]
  },
  {
   "cell_type": "markdown",
   "id": "technological-reproduction",
   "metadata": {},
   "source": [
    "## ElasticNet"
   ]
  },
  {
   "cell_type": "markdown",
   "id": "governing-review",
   "metadata": {},
   "source": [
    "Документация:"
   ]
  },
  {
   "cell_type": "markdown",
   "id": "comfortable-resolution",
   "metadata": {},
   "source": [
    "https://scikit-learn.org/stable/modules/generated/sklearn.linear_model.ElasticNet.html#sklearn.linear_model.ElasticNet"
   ]
  },
  {
   "cell_type": "markdown",
   "id": "subject-chain",
   "metadata": {},
   "source": [
    "Обучение модели:"
   ]
  },
  {
   "cell_type": "code",
   "execution_count": 50,
   "id": "american-georgia",
   "metadata": {},
   "outputs": [
    {
     "data": {
      "text/plain": [
       "ElasticNet()"
      ]
     },
     "execution_count": 50,
     "metadata": {},
     "output_type": "execute_result"
    }
   ],
   "source": [
    "from sklearn.linear_model import ElasticNet\n",
    "\n",
    "en = ElasticNet()\n",
    "en.fit(X_train, y_train)"
   ]
  },
  {
   "cell_type": "markdown",
   "id": "critical-application",
   "metadata": {},
   "source": [
    "Оценим качество модели:"
   ]
  },
  {
   "cell_type": "code",
   "execution_count": 51,
   "id": "eleven-amateur",
   "metadata": {},
   "outputs": [
    {
     "name": "stdout",
     "output_type": "stream",
     "text": [
      "R^2 =  0.9520523651064292\n",
      "MSE =  2982.9332858583343\n",
      "RMSE =  54.61623646735771\n",
      "MAE =  25.3730408163837\n"
     ]
    }
   ],
   "source": [
    "predict_estimation(en, y_test, en.predict(X_test))"
   ]
  },
  {
   "cell_type": "markdown",
   "id": "specialized-rogers",
   "metadata": {},
   "source": [
    "Выведем полученные и предполагаемые значения:"
   ]
  },
  {
   "cell_type": "code",
   "execution_count": 53,
   "id": "remarkable-mapping",
   "metadata": {},
   "outputs": [
    {
     "name": "stdout",
     "output_type": "stream",
     "text": [
      "[ 1.62481347e+02  1.16918531e+01  1.21447044e+01  7.68216772e+02\n",
      "  3.82836752e+01  3.10896082e+02  5.01857522e+01 -1.01601081e+01\n",
      "  9.45022950e+02  2.31927964e+02  8.54978200e+01  1.26068160e+02\n",
      "  4.17487628e+01  3.65222450e+01  6.68971221e+01  1.63031181e+01\n",
      "  5.77781618e+01  3.95678613e+00  1.35959606e+02  1.15799742e+02\n",
      "  6.16837326e+01  6.04716000e+01  1.25996856e+02  2.87451972e+01\n",
      "  1.00818014e+01  3.88801672e+01  2.54190539e+01  8.99859138e+00\n",
      " -1.70076590e-01  5.77441760e+01  2.71084195e+02  1.86600028e+01\n",
      "  2.70776400e+01 -3.30072761e+00  7.43315367e+00  3.07859717e+01\n",
      "  6.27591315e+01  4.04024243e+02  9.41739085e+01  1.94110825e+00\n",
      "  3.05970200e+02  3.77745035e+01]\n",
      "[ 102   25   25  919   34  267   41   19 1238  227   88   99   41   44\n",
      "   64   23   80   22  142   82   52   56  119   26   17   41   21   30\n",
      "   23   67  275   33   35   20   20   46   47  361   73   26  341   47]\n"
     ]
    }
   ],
   "source": [
    "print(en.predict(X_test))\n",
    "print(y_test)"
   ]
  },
  {
   "cell_type": "markdown",
   "id": "tender-tsunami",
   "metadata": {},
   "source": [
    "Найдем наилучие гиперпараметры:"
   ]
  },
  {
   "cell_type": "code",
   "execution_count": 78,
   "id": "ecological-correction",
   "metadata": {},
   "outputs": [
    {
     "name": "stdout",
     "output_type": "stream",
     "text": [
      "Best Hyperparameters:\n",
      "{'alpha': 1.9500000000000006, 'l1_ratio': 1.0}\n"
     ]
    }
   ],
   "source": [
    "param_grid = {'alpha': np.arange(0.1,2,0.05), 'l1_ratio': np.arange(0.1, 1.1, 0.1)}\n",
    "grid_cv_en = GridSearchCV(en, param_grid).fit(X,y)\n",
    "print(\"Best Hyperparameters:\\n{}\".format(grid_cv_en.best_params_))"
   ]
  },
  {
   "cell_type": "markdown",
   "id": "signed-spain",
   "metadata": {},
   "source": [
    "## Вывод"
   ]
  },
  {
   "cell_type": "markdown",
   "id": "external-graphic",
   "metadata": {},
   "source": [
    "Максимальный коэффициент детерминации имеет Ridge, следовательно является лучшим для данной модели"
   ]
  }
 ],
 "metadata": {
  "kernelspec": {
   "display_name": "Python 3",
   "language": "python",
   "name": "python3"
  },
  "language_info": {
   "codemirror_mode": {
    "name": "ipython",
    "version": 3
   },
   "file_extension": ".py",
   "mimetype": "text/x-python",
   "name": "python",
   "nbconvert_exporter": "python",
   "pygments_lexer": "ipython3",
   "version": "3.9.1"
  }
 },
 "nbformat": 4,
 "nbformat_minor": 5
}
