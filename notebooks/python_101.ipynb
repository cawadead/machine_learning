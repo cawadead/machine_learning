{
 "cells": [
  {
   "cell_type": "markdown",
   "id": "alternative-newfoundland",
   "metadata": {},
   "source": [
    "# Функция"
   ]
  },
  {
   "cell_type": "code",
   "execution_count": 1,
   "id": "alleged-constitution",
   "metadata": {},
   "outputs": [],
   "source": [
    "from itertools import groupby\n",
    "def find_uniq(l1, l2):\n",
    "    result = [el for el, _ in groupby(l1)] #оставляем только уникальные элементы из 1 листа\n",
    "    result.extend(el for el, _ in groupby(l2)) #добавляем только уникальные элементы из 1 листа\n",
    "    #возвращаем лист только с повторяющимися значениями из результата\n",
    "    return [result[i] for i in range(len(result)) if not i == result.index(result[i])]  "
   ]
  },
  {
   "cell_type": "markdown",
   "id": "other-designation",
   "metadata": {},
   "source": [
    "# Вызов функции 1"
   ]
  },
  {
   "cell_type": "code",
   "execution_count": 2,
   "id": "beginning-horizontal",
   "metadata": {
    "scrolled": true
   },
   "outputs": [
    {
     "data": {
      "text/plain": [
       "['a', '5']"
      ]
     },
     "execution_count": 2,
     "metadata": {},
     "output_type": "execute_result"
    }
   ],
   "source": [
    "find_uniq(['1', 'a', 'o', '5', '5'],['2', 'a', '5', 'i', 'i'])"
   ]
  },
  {
   "cell_type": "markdown",
   "id": "artistic-secondary",
   "metadata": {},
   "source": [
    "# Вызов функции 2"
   ]
  },
  {
   "cell_type": "code",
   "execution_count": 3,
   "id": "future-reporter",
   "metadata": {},
   "outputs": [
    {
     "data": {
      "text/plain": [
       "[1, 'anime']"
      ]
     },
     "execution_count": 3,
     "metadata": {},
     "output_type": "execute_result"
    }
   ],
   "source": [
    "find_uniq([1, 5, 7, 9.2, 'anime'],[3, 1, 'anime', 'sdasd', 8])"
   ]
  },
  {
   "cell_type": "code",
   "execution_count": null,
   "id": "composed-mixer",
   "metadata": {},
   "outputs": [],
   "source": []
  }
 ],
 "metadata": {
  "kernelspec": {
   "display_name": "Python 3",
   "language": "python",
   "name": "python3"
  },
  "language_info": {
   "codemirror_mode": {
    "name": "ipython",
    "version": 3
   },
   "file_extension": ".py",
   "mimetype": "text/x-python",
   "name": "python",
   "nbconvert_exporter": "python",
   "pygments_lexer": "ipython3",
   "version": "3.9.1"
  }
 },
 "nbformat": 4,
 "nbformat_minor": 5
}
