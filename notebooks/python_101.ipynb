{
 "cells": [
  {
   "cell_type": "markdown",
   "id": "alternative-newfoundland",
   "metadata": {},
   "source": [
    "# Функция"
   ]
  },
  {
   "cell_type": "code",
   "execution_count": 1,
   "id": "alleged-constitution",
   "metadata": {},
   "outputs": [],
   "source": [
    "from itertools import groupby\n",
    "def find_uniq(l1, l2):\n",
    "    return list(set(l1) & set(l2))"
   ]
  },
  {
   "cell_type": "markdown",
   "id": "other-designation",
   "metadata": {},
   "source": [
    "# Вызов функции 1"
   ]
  },
  {
   "cell_type": "code",
   "execution_count": 2,
   "id": "beginning-horizontal",
   "metadata": {
    "scrolled": true
   },
   "outputs": [
    {
     "data": {
      "text/plain": [
       "['5', 'a']"
      ]
     },
     "execution_count": 2,
     "metadata": {},
     "output_type": "execute_result"
    }
   ],
   "source": [
    "find_uniq(['1', 'a', 'o', '5', '5'],['2', 'a', '5', 'i', 'i'])"
   ]
  },
  {
   "cell_type": "markdown",
   "id": "artistic-secondary",
   "metadata": {},
   "source": [
    "# Вызов функции 2"
   ]
  },
  {
   "cell_type": "code",
   "execution_count": 3,
   "id": "future-reporter",
   "metadata": {},
   "outputs": [
    {
     "data": {
      "text/plain": [
       "[1, 'anime']"
      ]
     },
     "execution_count": 3,
     "metadata": {},
     "output_type": "execute_result"
    }
   ],
   "source": [
    "find_uniq([1, 5, 7, 9.2, 'anime'],[3, 1, 'anime', 'sdasd', 8])"
   ]
  }
 ],
 "metadata": {
  "kernelspec": {
   "display_name": "Python 3",
   "language": "python",
   "name": "python3"
  },
  "language_info": {
   "codemirror_mode": {
    "name": "ipython",
    "version": 3
   },
   "file_extension": ".py",
   "mimetype": "text/x-python",
   "name": "python",
   "nbconvert_exporter": "python",
   "pygments_lexer": "ipython3",
   "version": "3.9.1"
  }
 },
 "nbformat": 4,
 "nbformat_minor": 5
}
