{
 "cells": [
  {
   "cell_type": "markdown",
   "id": "sorted-blank",
   "metadata": {},
   "source": [
    "# Подготовка данных"
   ]
  },
  {
   "cell_type": "markdown",
   "id": "north-organ",
   "metadata": {},
   "source": [
    "## Импорт данных"
   ]
  },
  {
   "cell_type": "code",
   "execution_count": 1,
   "id": "broken-receiver",
   "metadata": {},
   "outputs": [
    {
     "data": {
      "text/html": [
       "<div>\n",
       "<style scoped>\n",
       "    .dataframe tbody tr th:only-of-type {\n",
       "        vertical-align: middle;\n",
       "    }\n",
       "\n",
       "    .dataframe tbody tr th {\n",
       "        vertical-align: top;\n",
       "    }\n",
       "\n",
       "    .dataframe thead th {\n",
       "        text-align: right;\n",
       "    }\n",
       "</style>\n",
       "<table border=\"1\" class=\"dataframe\">\n",
       "  <thead>\n",
       "    <tr style=\"text-align: right;\">\n",
       "      <th></th>\n",
       "      <th>age</th>\n",
       "      <th>fnlwgt</th>\n",
       "      <th>education-num</th>\n",
       "      <th>sex</th>\n",
       "      <th>capital-gain</th>\n",
       "      <th>capital-loss</th>\n",
       "      <th>hours-per-week</th>\n",
       "      <th>salary</th>\n",
       "      <th>workclass_Federal-gov</th>\n",
       "      <th>workclass_Local-gov</th>\n",
       "      <th>...</th>\n",
       "      <th>native-country_Portugal</th>\n",
       "      <th>native-country_Puerto-Rico</th>\n",
       "      <th>native-country_Scotland</th>\n",
       "      <th>native-country_South</th>\n",
       "      <th>native-country_Taiwan</th>\n",
       "      <th>native-country_Thailand</th>\n",
       "      <th>native-country_Trinadad&amp;Tobago</th>\n",
       "      <th>native-country_United-States</th>\n",
       "      <th>native-country_Vietnam</th>\n",
       "      <th>native-country_Yugoslavia</th>\n",
       "    </tr>\n",
       "  </thead>\n",
       "  <tbody>\n",
       "    <tr>\n",
       "      <th>0</th>\n",
       "      <td>39</td>\n",
       "      <td>77516</td>\n",
       "      <td>13</td>\n",
       "      <td>0</td>\n",
       "      <td>2174</td>\n",
       "      <td>0</td>\n",
       "      <td>40</td>\n",
       "      <td>0</td>\n",
       "      <td>0</td>\n",
       "      <td>0</td>\n",
       "      <td>...</td>\n",
       "      <td>0</td>\n",
       "      <td>0</td>\n",
       "      <td>0</td>\n",
       "      <td>0</td>\n",
       "      <td>0</td>\n",
       "      <td>0</td>\n",
       "      <td>0</td>\n",
       "      <td>1</td>\n",
       "      <td>0</td>\n",
       "      <td>0</td>\n",
       "    </tr>\n",
       "    <tr>\n",
       "      <th>1</th>\n",
       "      <td>50</td>\n",
       "      <td>83311</td>\n",
       "      <td>13</td>\n",
       "      <td>0</td>\n",
       "      <td>0</td>\n",
       "      <td>0</td>\n",
       "      <td>13</td>\n",
       "      <td>0</td>\n",
       "      <td>0</td>\n",
       "      <td>0</td>\n",
       "      <td>...</td>\n",
       "      <td>0</td>\n",
       "      <td>0</td>\n",
       "      <td>0</td>\n",
       "      <td>0</td>\n",
       "      <td>0</td>\n",
       "      <td>0</td>\n",
       "      <td>0</td>\n",
       "      <td>1</td>\n",
       "      <td>0</td>\n",
       "      <td>0</td>\n",
       "    </tr>\n",
       "    <tr>\n",
       "      <th>2</th>\n",
       "      <td>38</td>\n",
       "      <td>215646</td>\n",
       "      <td>9</td>\n",
       "      <td>0</td>\n",
       "      <td>0</td>\n",
       "      <td>0</td>\n",
       "      <td>40</td>\n",
       "      <td>0</td>\n",
       "      <td>0</td>\n",
       "      <td>0</td>\n",
       "      <td>...</td>\n",
       "      <td>0</td>\n",
       "      <td>0</td>\n",
       "      <td>0</td>\n",
       "      <td>0</td>\n",
       "      <td>0</td>\n",
       "      <td>0</td>\n",
       "      <td>0</td>\n",
       "      <td>1</td>\n",
       "      <td>0</td>\n",
       "      <td>0</td>\n",
       "    </tr>\n",
       "    <tr>\n",
       "      <th>3</th>\n",
       "      <td>53</td>\n",
       "      <td>234721</td>\n",
       "      <td>7</td>\n",
       "      <td>0</td>\n",
       "      <td>0</td>\n",
       "      <td>0</td>\n",
       "      <td>40</td>\n",
       "      <td>0</td>\n",
       "      <td>0</td>\n",
       "      <td>0</td>\n",
       "      <td>...</td>\n",
       "      <td>0</td>\n",
       "      <td>0</td>\n",
       "      <td>0</td>\n",
       "      <td>0</td>\n",
       "      <td>0</td>\n",
       "      <td>0</td>\n",
       "      <td>0</td>\n",
       "      <td>1</td>\n",
       "      <td>0</td>\n",
       "      <td>0</td>\n",
       "    </tr>\n",
       "    <tr>\n",
       "      <th>4</th>\n",
       "      <td>28</td>\n",
       "      <td>338409</td>\n",
       "      <td>13</td>\n",
       "      <td>1</td>\n",
       "      <td>0</td>\n",
       "      <td>0</td>\n",
       "      <td>40</td>\n",
       "      <td>0</td>\n",
       "      <td>0</td>\n",
       "      <td>0</td>\n",
       "      <td>...</td>\n",
       "      <td>0</td>\n",
       "      <td>0</td>\n",
       "      <td>0</td>\n",
       "      <td>0</td>\n",
       "      <td>0</td>\n",
       "      <td>0</td>\n",
       "      <td>0</td>\n",
       "      <td>0</td>\n",
       "      <td>0</td>\n",
       "      <td>0</td>\n",
       "    </tr>\n",
       "  </tbody>\n",
       "</table>\n",
       "<p>5 rows × 88 columns</p>\n",
       "</div>"
      ],
      "text/plain": [
       "   age  fnlwgt  education-num  sex  capital-gain  capital-loss  \\\n",
       "0   39   77516             13    0          2174             0   \n",
       "1   50   83311             13    0             0             0   \n",
       "2   38  215646              9    0             0             0   \n",
       "3   53  234721              7    0             0             0   \n",
       "4   28  338409             13    1             0             0   \n",
       "\n",
       "   hours-per-week  salary  workclass_Federal-gov  workclass_Local-gov  ...  \\\n",
       "0              40       0                      0                    0  ...   \n",
       "1              13       0                      0                    0  ...   \n",
       "2              40       0                      0                    0  ...   \n",
       "3              40       0                      0                    0  ...   \n",
       "4              40       0                      0                    0  ...   \n",
       "\n",
       "   native-country_Portugal  native-country_Puerto-Rico  \\\n",
       "0                        0                           0   \n",
       "1                        0                           0   \n",
       "2                        0                           0   \n",
       "3                        0                           0   \n",
       "4                        0                           0   \n",
       "\n",
       "   native-country_Scotland  native-country_South  native-country_Taiwan  \\\n",
       "0                        0                     0                      0   \n",
       "1                        0                     0                      0   \n",
       "2                        0                     0                      0   \n",
       "3                        0                     0                      0   \n",
       "4                        0                     0                      0   \n",
       "\n",
       "   native-country_Thailand  native-country_Trinadad&Tobago  \\\n",
       "0                        0                               0   \n",
       "1                        0                               0   \n",
       "2                        0                               0   \n",
       "3                        0                               0   \n",
       "4                        0                               0   \n",
       "\n",
       "   native-country_United-States  native-country_Vietnam  \\\n",
       "0                             1                       0   \n",
       "1                             1                       0   \n",
       "2                             1                       0   \n",
       "3                             1                       0   \n",
       "4                             0                       0   \n",
       "\n",
       "   native-country_Yugoslavia  \n",
       "0                          0  \n",
       "1                          0  \n",
       "2                          0  \n",
       "3                          0  \n",
       "4                          0  \n",
       "\n",
       "[5 rows x 88 columns]"
      ]
     },
     "execution_count": 1,
     "metadata": {},
     "output_type": "execute_result"
    }
   ],
   "source": [
    "import pandas as pd\n",
    "dataset = pd.read_csv('../data/adult_preprocessed.csv')\n",
    "dataset.head()"
   ]
  },
  {
   "cell_type": "markdown",
   "id": "floral-refund",
   "metadata": {},
   "source": [
    "## Аномалии"
   ]
  },
  {
   "cell_type": "markdown",
   "id": "usual-parameter",
   "metadata": {},
   "source": [
    "Исходя из данных, полученных в файле 1_visualization можно сделать вывод, что аномалии имеются у параметров *hours-peer-week* и *capital-gain*. Проверим, что произойдет с данными, если отбросить значения на расстоянии более 1.5\\*IQR от квартилей Q1 и Q3"
   ]
  },
  {
   "cell_type": "code",
   "execution_count": 2,
   "id": "outside-endorsement",
   "metadata": {},
   "outputs": [
    {
     "name": "stdout",
     "output_type": "stream",
     "text": [
      "<class 'pandas.core.frame.DataFrame'>\n",
      "Int64Index: 24444 entries, 0 to 30161\n",
      "Data columns (total 88 columns):\n",
      " #   Column                                     Non-Null Count  Dtype\n",
      "---  ------                                     --------------  -----\n",
      " 0   age                                        24444 non-null  int64\n",
      " 1   fnlwgt                                     24444 non-null  int64\n",
      " 2   education-num                              24444 non-null  int64\n",
      " 3   sex                                        24444 non-null  int64\n",
      " 4   capital-gain                               24444 non-null  int64\n",
      " 5   capital-loss                               24444 non-null  int64\n",
      " 6   hours-per-week                             24444 non-null  int64\n",
      " 7   salary                                     24444 non-null  int64\n",
      " 8   workclass_Federal-gov                      24444 non-null  int64\n",
      " 9   workclass_Local-gov                        24444 non-null  int64\n",
      " 10  workclass_Private                          24444 non-null  int64\n",
      " 11  workclass_Self-emp-inc                     24444 non-null  int64\n",
      " 12  workclass_Self-emp-not-inc                 24444 non-null  int64\n",
      " 13  workclass_State-gov                        24444 non-null  int64\n",
      " 14  workclass_Without-pay                      24444 non-null  int64\n",
      " 15  marital-status_Divorced                    24444 non-null  int64\n",
      " 16  marital-status_Married-AF-spouse           24444 non-null  int64\n",
      " 17  marital-status_Married-civ-spouse          24444 non-null  int64\n",
      " 18  marital-status_Married-spouse-absent       24444 non-null  int64\n",
      " 19  marital-status_Never-married               24444 non-null  int64\n",
      " 20  marital-status_Separated                   24444 non-null  int64\n",
      " 21  marital-status_Widowed                     24444 non-null  int64\n",
      " 22  occupation_Adm-clerical                    24444 non-null  int64\n",
      " 23  occupation_Armed-Forces                    24444 non-null  int64\n",
      " 24  occupation_Craft-repair                    24444 non-null  int64\n",
      " 25  occupation_Exec-managerial                 24444 non-null  int64\n",
      " 26  occupation_Farming-fishing                 24444 non-null  int64\n",
      " 27  occupation_Handlers-cleaners               24444 non-null  int64\n",
      " 28  occupation_Machine-op-inspct               24444 non-null  int64\n",
      " 29  occupation_Other-service                   24444 non-null  int64\n",
      " 30  occupation_Priv-house-serv                 24444 non-null  int64\n",
      " 31  occupation_Prof-specialty                  24444 non-null  int64\n",
      " 32  occupation_Protective-serv                 24444 non-null  int64\n",
      " 33  occupation_Sales                           24444 non-null  int64\n",
      " 34  occupation_Tech-support                    24444 non-null  int64\n",
      " 35  occupation_Transport-moving                24444 non-null  int64\n",
      " 36  relationship_Husband                       24444 non-null  int64\n",
      " 37  relationship_Not-in-family                 24444 non-null  int64\n",
      " 38  relationship_Other-relative                24444 non-null  int64\n",
      " 39  relationship_Own-child                     24444 non-null  int64\n",
      " 40  relationship_Unmarried                     24444 non-null  int64\n",
      " 41  relationship_Wife                          24444 non-null  int64\n",
      " 42  race_Amer-Indian-Eskimo                    24444 non-null  int64\n",
      " 43  race_Asian-Pac-Islander                    24444 non-null  int64\n",
      " 44  race_Black                                 24444 non-null  int64\n",
      " 45  race_Other                                 24444 non-null  int64\n",
      " 46  race_White                                 24444 non-null  int64\n",
      " 47  native-country_Cambodia                    24444 non-null  int64\n",
      " 48  native-country_Canada                      24444 non-null  int64\n",
      " 49  native-country_China                       24444 non-null  int64\n",
      " 50  native-country_Columbia                    24444 non-null  int64\n",
      " 51  native-country_Cuba                        24444 non-null  int64\n",
      " 52  native-country_Dominican-Republic          24444 non-null  int64\n",
      " 53  native-country_Ecuador                     24444 non-null  int64\n",
      " 54  native-country_El-Salvador                 24444 non-null  int64\n",
      " 55  native-country_England                     24444 non-null  int64\n",
      " 56  native-country_France                      24444 non-null  int64\n",
      " 57  native-country_Germany                     24444 non-null  int64\n",
      " 58  native-country_Greece                      24444 non-null  int64\n",
      " 59  native-country_Guatemala                   24444 non-null  int64\n",
      " 60  native-country_Haiti                       24444 non-null  int64\n",
      " 61  native-country_Holand-Netherlands          24444 non-null  int64\n",
      " 62  native-country_Honduras                    24444 non-null  int64\n",
      " 63  native-country_Hong                        24444 non-null  int64\n",
      " 64  native-country_Hungary                     24444 non-null  int64\n",
      " 65  native-country_India                       24444 non-null  int64\n",
      " 66  native-country_Iran                        24444 non-null  int64\n",
      " 67  native-country_Ireland                     24444 non-null  int64\n",
      " 68  native-country_Italy                       24444 non-null  int64\n",
      " 69  native-country_Jamaica                     24444 non-null  int64\n",
      " 70  native-country_Japan                       24444 non-null  int64\n",
      " 71  native-country_Laos                        24444 non-null  int64\n",
      " 72  native-country_Mexico                      24444 non-null  int64\n",
      " 73  native-country_Nicaragua                   24444 non-null  int64\n",
      " 74  native-country_Outlying-US(Guam-USVI-etc)  24444 non-null  int64\n",
      " 75  native-country_Peru                        24444 non-null  int64\n",
      " 76  native-country_Philippines                 24444 non-null  int64\n",
      " 77  native-country_Poland                      24444 non-null  int64\n",
      " 78  native-country_Portugal                    24444 non-null  int64\n",
      " 79  native-country_Puerto-Rico                 24444 non-null  int64\n",
      " 80  native-country_Scotland                    24444 non-null  int64\n",
      " 81  native-country_South                       24444 non-null  int64\n",
      " 82  native-country_Taiwan                      24444 non-null  int64\n",
      " 83  native-country_Thailand                    24444 non-null  int64\n",
      " 84  native-country_Trinadad&Tobago             24444 non-null  int64\n",
      " 85  native-country_United-States               24444 non-null  int64\n",
      " 86  native-country_Vietnam                     24444 non-null  int64\n",
      " 87  native-country_Yugoslavia                  24444 non-null  int64\n",
      "dtypes: int64(88)\n",
      "memory usage: 16.6 MB\n"
     ]
    }
   ],
   "source": [
    "first_quartile = dataset['hours-per-week'].describe()['25%']\n",
    "third_quartile = dataset['hours-per-week'].describe()['75%']\n",
    "\n",
    "iqr = third_quartile - first_quartile\n",
    "\n",
    "dataset[(dataset['hours-per-week'] > (first_quartile - 3 * iqr)) &\n",
    "            (dataset['hours-per-week'] < (third_quartile + 3 * iqr))].info()"
   ]
  },
  {
   "cell_type": "markdown",
   "id": "authorized-colombia",
   "metadata": {},
   "source": [
    "Для параметра *hours-per-week* это приводит к потере значительной части данных, кроме того, нельзя исключать, что люди действительно столько работают. Проверим для второго парметра"
   ]
  },
  {
   "cell_type": "code",
   "execution_count": 3,
   "id": "foreign-tanzania",
   "metadata": {},
   "outputs": [
    {
     "name": "stdout",
     "output_type": "stream",
     "text": [
      "<class 'pandas.core.frame.DataFrame'>\n",
      "Int64Index: 0 entries\n",
      "Data columns (total 88 columns):\n",
      " #   Column                                     Non-Null Count  Dtype\n",
      "---  ------                                     --------------  -----\n",
      " 0   age                                        0 non-null      int64\n",
      " 1   fnlwgt                                     0 non-null      int64\n",
      " 2   education-num                              0 non-null      int64\n",
      " 3   sex                                        0 non-null      int64\n",
      " 4   capital-gain                               0 non-null      int64\n",
      " 5   capital-loss                               0 non-null      int64\n",
      " 6   hours-per-week                             0 non-null      int64\n",
      " 7   salary                                     0 non-null      int64\n",
      " 8   workclass_Federal-gov                      0 non-null      int64\n",
      " 9   workclass_Local-gov                        0 non-null      int64\n",
      " 10  workclass_Private                          0 non-null      int64\n",
      " 11  workclass_Self-emp-inc                     0 non-null      int64\n",
      " 12  workclass_Self-emp-not-inc                 0 non-null      int64\n",
      " 13  workclass_State-gov                        0 non-null      int64\n",
      " 14  workclass_Without-pay                      0 non-null      int64\n",
      " 15  marital-status_Divorced                    0 non-null      int64\n",
      " 16  marital-status_Married-AF-spouse           0 non-null      int64\n",
      " 17  marital-status_Married-civ-spouse          0 non-null      int64\n",
      " 18  marital-status_Married-spouse-absent       0 non-null      int64\n",
      " 19  marital-status_Never-married               0 non-null      int64\n",
      " 20  marital-status_Separated                   0 non-null      int64\n",
      " 21  marital-status_Widowed                     0 non-null      int64\n",
      " 22  occupation_Adm-clerical                    0 non-null      int64\n",
      " 23  occupation_Armed-Forces                    0 non-null      int64\n",
      " 24  occupation_Craft-repair                    0 non-null      int64\n",
      " 25  occupation_Exec-managerial                 0 non-null      int64\n",
      " 26  occupation_Farming-fishing                 0 non-null      int64\n",
      " 27  occupation_Handlers-cleaners               0 non-null      int64\n",
      " 28  occupation_Machine-op-inspct               0 non-null      int64\n",
      " 29  occupation_Other-service                   0 non-null      int64\n",
      " 30  occupation_Priv-house-serv                 0 non-null      int64\n",
      " 31  occupation_Prof-specialty                  0 non-null      int64\n",
      " 32  occupation_Protective-serv                 0 non-null      int64\n",
      " 33  occupation_Sales                           0 non-null      int64\n",
      " 34  occupation_Tech-support                    0 non-null      int64\n",
      " 35  occupation_Transport-moving                0 non-null      int64\n",
      " 36  relationship_Husband                       0 non-null      int64\n",
      " 37  relationship_Not-in-family                 0 non-null      int64\n",
      " 38  relationship_Other-relative                0 non-null      int64\n",
      " 39  relationship_Own-child                     0 non-null      int64\n",
      " 40  relationship_Unmarried                     0 non-null      int64\n",
      " 41  relationship_Wife                          0 non-null      int64\n",
      " 42  race_Amer-Indian-Eskimo                    0 non-null      int64\n",
      " 43  race_Asian-Pac-Islander                    0 non-null      int64\n",
      " 44  race_Black                                 0 non-null      int64\n",
      " 45  race_Other                                 0 non-null      int64\n",
      " 46  race_White                                 0 non-null      int64\n",
      " 47  native-country_Cambodia                    0 non-null      int64\n",
      " 48  native-country_Canada                      0 non-null      int64\n",
      " 49  native-country_China                       0 non-null      int64\n",
      " 50  native-country_Columbia                    0 non-null      int64\n",
      " 51  native-country_Cuba                        0 non-null      int64\n",
      " 52  native-country_Dominican-Republic          0 non-null      int64\n",
      " 53  native-country_Ecuador                     0 non-null      int64\n",
      " 54  native-country_El-Salvador                 0 non-null      int64\n",
      " 55  native-country_England                     0 non-null      int64\n",
      " 56  native-country_France                      0 non-null      int64\n",
      " 57  native-country_Germany                     0 non-null      int64\n",
      " 58  native-country_Greece                      0 non-null      int64\n",
      " 59  native-country_Guatemala                   0 non-null      int64\n",
      " 60  native-country_Haiti                       0 non-null      int64\n",
      " 61  native-country_Holand-Netherlands          0 non-null      int64\n",
      " 62  native-country_Honduras                    0 non-null      int64\n",
      " 63  native-country_Hong                        0 non-null      int64\n",
      " 64  native-country_Hungary                     0 non-null      int64\n",
      " 65  native-country_India                       0 non-null      int64\n",
      " 66  native-country_Iran                        0 non-null      int64\n",
      " 67  native-country_Ireland                     0 non-null      int64\n",
      " 68  native-country_Italy                       0 non-null      int64\n",
      " 69  native-country_Jamaica                     0 non-null      int64\n",
      " 70  native-country_Japan                       0 non-null      int64\n",
      " 71  native-country_Laos                        0 non-null      int64\n",
      " 72  native-country_Mexico                      0 non-null      int64\n",
      " 73  native-country_Nicaragua                   0 non-null      int64\n",
      " 74  native-country_Outlying-US(Guam-USVI-etc)  0 non-null      int64\n",
      " 75  native-country_Peru                        0 non-null      int64\n",
      " 76  native-country_Philippines                 0 non-null      int64\n",
      " 77  native-country_Poland                      0 non-null      int64\n",
      " 78  native-country_Portugal                    0 non-null      int64\n",
      " 79  native-country_Puerto-Rico                 0 non-null      int64\n",
      " 80  native-country_Scotland                    0 non-null      int64\n",
      " 81  native-country_South                       0 non-null      int64\n",
      " 82  native-country_Taiwan                      0 non-null      int64\n",
      " 83  native-country_Thailand                    0 non-null      int64\n",
      " 84  native-country_Trinadad&Tobago             0 non-null      int64\n",
      " 85  native-country_United-States               0 non-null      int64\n",
      " 86  native-country_Vietnam                     0 non-null      int64\n",
      " 87  native-country_Yugoslavia                  0 non-null      int64\n",
      "dtypes: int64(88)\n",
      "memory usage: 0.0 bytes\n"
     ]
    }
   ],
   "source": [
    "first_quartile = dataset['capital-gain'].describe()['25%']\n",
    "third_quartile = dataset['capital-gain'].describe()['75%']\n",
    "\n",
    "iqr = third_quartile - first_quartile\n",
    "\n",
    "dataset[(dataset['capital-gain'] > (first_quartile - 3 * iqr)) &\n",
    "            (dataset['capital-gain'] < (third_quartile + 3 * iqr))].info()"
   ]
  },
  {
   "cell_type": "markdown",
   "id": "homeless-forest",
   "metadata": {},
   "source": [
    "Для второго параметра это приводит к полной потере данных"
   ]
  },
  {
   "cell_type": "markdown",
   "id": "artificial-aaron",
   "metadata": {},
   "source": [
    "## Разбиение данных"
   ]
  },
  {
   "cell_type": "markdown",
   "id": "faced-arbor",
   "metadata": {},
   "source": [
    "Для начала разобьем данные на множество описаний объектов и множество меток:"
   ]
  },
  {
   "cell_type": "code",
   "execution_count": 2,
   "id": "amateur-trailer",
   "metadata": {},
   "outputs": [],
   "source": [
    "X = dataset.drop('salary', 1).values\n",
    "y = dataset['salary'].values"
   ]
  },
  {
   "cell_type": "markdown",
   "id": "matched-elements",
   "metadata": {},
   "source": [
    "Разобьем на обучающую и тестовую выборки:"
   ]
  },
  {
   "cell_type": "code",
   "execution_count": 3,
   "id": "rolled-rouge",
   "metadata": {},
   "outputs": [],
   "source": [
    "from sklearn.model_selection import train_test_split\n",
    "X_train, X_test, y_train, y_test = train_test_split(X, y, test_size=0.20, stratify=y)"
   ]
  },
  {
   "cell_type": "markdown",
   "id": "wired-shannon",
   "metadata": {},
   "source": [
    "Проверим соотношение разбиения:"
   ]
  },
  {
   "cell_type": "code",
   "execution_count": 4,
   "id": "quarterly-locator",
   "metadata": {},
   "outputs": [
    {
     "name": "stdout",
     "output_type": "stream",
     "text": [
      "dict_values([18123, 6006])\n",
      "dict_values([4531, 1502])\n"
     ]
    }
   ],
   "source": [
    "from collections import Counter\n",
    "print(Counter(y_train).values())\n",
    "print(Counter(y_test).values())"
   ]
  },
  {
   "cell_type": "markdown",
   "id": "unexpected-neutral",
   "metadata": {},
   "source": [
    "Нормализуем параметры:"
   ]
  },
  {
   "cell_type": "code",
   "execution_count": 5,
   "id": "broken-welcome",
   "metadata": {},
   "outputs": [],
   "source": [
    "from sklearn.preprocessing import StandardScaler\n",
    "\n",
    "scaler = StandardScaler()\n",
    "scaler.fit(X_train)\n",
    "X_train = scaler.transform(X_train)\n",
    "X_test = scaler.transform(X_test)"
   ]
  },
  {
   "cell_type": "markdown",
   "id": "demanding-starter",
   "metadata": {},
   "source": [
    "# Классификация"
   ]
  },
  {
   "cell_type": "markdown",
   "id": "breathing-lawsuit",
   "metadata": {},
   "source": [
    "## KNN"
   ]
  },
  {
   "cell_type": "markdown",
   "id": "polar-waste",
   "metadata": {},
   "source": [
    "Произведем обучение и проверим точность классификации алгоритма KNN"
   ]
  },
  {
   "cell_type": "code",
   "execution_count": 9,
   "id": "bibliographic-commission",
   "metadata": {},
   "outputs": [
    {
     "name": "stdout",
     "output_type": "stream",
     "text": [
      "[[4092  439]\n",
      " [ 652  850]]\n",
      "              precision    recall  f1-score   support\n",
      "\n",
      "           0       0.86      0.90      0.88      4531\n",
      "           1       0.66      0.57      0.61      1502\n",
      "\n",
      "    accuracy                           0.82      6033\n",
      "   macro avg       0.76      0.73      0.75      6033\n",
      "weighted avg       0.81      0.82      0.81      6033\n",
      "\n"
     ]
    }
   ],
   "source": [
    "from sklearn.neighbors import KNeighborsClassifier\n",
    "from sklearn.metrics import classification_report, confusion_matrix\n",
    "\n",
    "clf = KNeighborsClassifier(n_neighbors=5)\n",
    "clf.fit(X_train, y_train)\n",
    "\n",
    "y_pred = clf.predict(X_test)\n",
    "print(confusion_matrix(y_test, y_pred))\n",
    "print(classification_report(y_test, y_pred))"
   ]
  },
  {
   "cell_type": "markdown",
   "id": "stone-chassis",
   "metadata": {},
   "source": [
    "Произведем поиск гиперпараметров:"
   ]
  },
  {
   "cell_type": "code",
   "execution_count": 18,
   "id": "musical-learning",
   "metadata": {},
   "outputs": [
    {
     "data": {
      "text/plain": [
       "{'n_neighbors': 9}"
      ]
     },
     "execution_count": 18,
     "metadata": {},
     "output_type": "execute_result"
    }
   ],
   "source": [
    "from sklearn.model_selection import GridSearchCV\n",
    "\n",
    "from sklearn.neighbors import KNeighborsClassifier\n",
    "\n",
    "X_train, X_test, y_train, y_test = train_test_split(X, y, test_size=0.20, stratify=y)\n",
    "scaler = StandardScaler()\n",
    "scaler.fit(X_train)\n",
    "\n",
    "X_train = scaler.transform(X_train)\n",
    "X_test = scaler.transform(X_test)\n",
    "\n",
    "parameters = {'n_neighbors':[1, 2, 3, 4, 5, 6, 7, 8, 9, 10]}\n",
    "\n",
    "knn = KNeighborsClassifier()\n",
    "\n",
    "clf = GridSearchCV(knn, parameters)\n",
    "\n",
    "clf.fit(X_train, y_train)\n",
    "\n",
    "clf.best_params_"
   ]
  },
  {
   "cell_type": "markdown",
   "id": "alternate-india",
   "metadata": {},
   "source": [
    "Произведем кросс-валидацию"
   ]
  },
  {
   "cell_type": "code",
   "execution_count": 8,
   "id": "opening-executive",
   "metadata": {},
   "outputs": [
    {
     "name": "stdout",
     "output_type": "stream",
     "text": [
      "              precision    recall  f1-score   support\n",
      "\n",
      "           0       0.80      0.95      0.87      2266\n",
      "           1       0.64      0.27      0.38       751\n",
      "\n",
      "    accuracy                           0.78      3017\n",
      "   macro avg       0.72      0.61      0.62      3017\n",
      "weighted avg       0.76      0.78      0.75      3017\n",
      "\n",
      "0.7812396420285052\n",
      "              precision    recall  f1-score   support\n",
      "\n",
      "           0       0.80      0.95      0.87      2266\n",
      "           1       0.66      0.27      0.39       751\n",
      "\n",
      "    accuracy                           0.78      3017\n",
      "   macro avg       0.73      0.61      0.63      3017\n",
      "weighted avg       0.76      0.78      0.75      3017\n",
      "\n",
      "0.7835598276433543\n",
      "              precision    recall  f1-score   support\n",
      "\n",
      "           0       0.80      0.95      0.87      2266\n",
      "           1       0.66      0.27      0.38       750\n",
      "\n",
      "    accuracy                           0.78      3016\n",
      "   macro avg       0.73      0.61      0.62      3016\n",
      "weighted avg       0.76      0.78      0.75      3016\n",
      "\n",
      "0.7838196286472149\n",
      "              precision    recall  f1-score   support\n",
      "\n",
      "           0       0.80      0.95      0.87      2266\n",
      "           1       0.65      0.28      0.39       750\n",
      "\n",
      "    accuracy                           0.78      3016\n",
      "   macro avg       0.73      0.61      0.63      3016\n",
      "weighted avg       0.76      0.78      0.75      3016\n",
      "\n",
      "0.7838196286472149\n",
      "              precision    recall  f1-score   support\n",
      "\n",
      "           0       0.80      0.95      0.87      2265\n",
      "           1       0.65      0.27      0.38       751\n",
      "\n",
      "    accuracy                           0.78      3016\n",
      "   macro avg       0.73      0.61      0.63      3016\n",
      "weighted avg       0.76      0.78      0.75      3016\n",
      "\n",
      "0.7824933687002652\n",
      "              precision    recall  f1-score   support\n",
      "\n",
      "           0       0.80      0.96      0.87      2265\n",
      "           1       0.68      0.26      0.38       751\n",
      "\n",
      "    accuracy                           0.79      3016\n",
      "   macro avg       0.74      0.61      0.63      3016\n",
      "weighted avg       0.77      0.79      0.75      3016\n",
      "\n",
      "0.7861405835543767\n",
      "              precision    recall  f1-score   support\n",
      "\n",
      "           0       0.79      0.95      0.87      2265\n",
      "           1       0.64      0.25      0.36       751\n",
      "\n",
      "    accuracy                           0.78      3016\n",
      "   macro avg       0.71      0.60      0.61      3016\n",
      "weighted avg       0.75      0.78      0.74      3016\n",
      "\n",
      "0.7775198938992043\n",
      "              precision    recall  f1-score   support\n",
      "\n",
      "           0       0.80      0.95      0.87      2265\n",
      "           1       0.66      0.28      0.39       751\n",
      "\n",
      "    accuracy                           0.78      3016\n",
      "   macro avg       0.73      0.62      0.63      3016\n",
      "weighted avg       0.76      0.78      0.75      3016\n",
      "\n",
      "0.7844827586206896\n",
      "              precision    recall  f1-score   support\n",
      "\n",
      "           0       0.79      0.95      0.87      2265\n",
      "           1       0.64      0.25      0.36       751\n",
      "\n",
      "    accuracy                           0.78      3016\n",
      "   macro avg       0.72      0.60      0.61      3016\n",
      "weighted avg       0.75      0.78      0.74      3016\n",
      "\n",
      "0.778183023872679\n",
      "              precision    recall  f1-score   support\n",
      "\n",
      "           0       0.80      0.95      0.87      2265\n",
      "           1       0.66      0.28      0.39       751\n",
      "\n",
      "    accuracy                           0.78      3016\n",
      "   macro avg       0.73      0.62      0.63      3016\n",
      "weighted avg       0.76      0.78      0.75      3016\n",
      "\n",
      "0.7844827586206896\n"
     ]
    }
   ],
   "source": [
    "from sklearn.model_selection import StratifiedKFold\n",
    "\n",
    "skf = StratifiedKFold(n_splits=10)\n",
    "for train_index, test_index in skf.split(X, y):\n",
    "  X_train, X_test = X[train_index], X[test_index]\n",
    "  y_train, y_test = y[train_index], y[test_index]\n",
    "  clf = KNeighborsClassifier(n_neighbors=9)\n",
    "  clf.fit(X_train, y_train)\n",
    "  y_pred = clf.predict(X_test)\n",
    "  print(classification_report(y_test, y_pred))\n",
    "  print(clf.score(X_test, y_test))"
   ]
  },
  {
   "cell_type": "markdown",
   "id": "billion-detail",
   "metadata": {},
   "source": [
    "Полученные значения на разных итерациях примерно равны. Можно сделать вывод, что данные устойчивы"
   ]
  },
  {
   "cell_type": "markdown",
   "id": "numerous-hardwood",
   "metadata": {},
   "source": [
    "Точность работы алгоритма немного увеличилась относительно k = 5"
   ]
  },
  {
   "cell_type": "markdown",
   "id": "otherwise-voluntary",
   "metadata": {},
   "source": [
    "## DTC"
   ]
  },
  {
   "cell_type": "markdown",
   "id": "olive-factor",
   "metadata": {},
   "source": [
    "Произведем обучение и проверим точность классификации алгоритма DTC"
   ]
  },
  {
   "cell_type": "code",
   "execution_count": 23,
   "id": "missing-blanket",
   "metadata": {},
   "outputs": [
    {
     "name": "stdout",
     "output_type": "stream",
     "text": [
      "[[3960  571]\n",
      " [ 576  926]]\n",
      "              precision    recall  f1-score   support\n",
      "\n",
      "           0       0.87      0.87      0.87      4531\n",
      "           1       0.62      0.62      0.62      1502\n",
      "\n",
      "    accuracy                           0.81      6033\n",
      "   macro avg       0.75      0.75      0.75      6033\n",
      "weighted avg       0.81      0.81      0.81      6033\n",
      "\n"
     ]
    }
   ],
   "source": [
    "from sklearn import tree\n",
    "\n",
    "X_train, X_test, y_train, y_test = train_test_split(X, y, test_size=0.20, stratify=y)\n",
    "scaler = StandardScaler()\n",
    "scaler.fit(X_train)\n",
    "\n",
    "X_train = scaler.transform(X_train)\n",
    "X_test = scaler.transform(X_test)\n",
    "\n",
    "clf = tree.DecisionTreeClassifier()\n",
    "clf = clf.fit(X_train, y_train)\n",
    "\n",
    "y_pred = clf.predict(X_test)\n",
    "print(confusion_matrix(y_test, y_pred))\n",
    "print(classification_report(y_test, y_pred))"
   ]
  },
  {
   "cell_type": "markdown",
   "id": "unlimited-direction",
   "metadata": {},
   "source": [
    "Произведем поиск гиперпараметров:"
   ]
  },
  {
   "cell_type": "code",
   "execution_count": 25,
   "id": "spiritual-stuff",
   "metadata": {},
   "outputs": [
    {
     "data": {
      "text/plain": [
       "{'max_depth': 10, 'max_features': 17}"
      ]
     },
     "execution_count": 25,
     "metadata": {},
     "output_type": "execute_result"
    }
   ],
   "source": [
    "X_train, X_test, y_train, y_test = train_test_split(X, y, test_size=0.20, stratify=y)\n",
    "scaler = StandardScaler()\n",
    "scaler.fit(X_train)\n",
    "\n",
    "X_train = scaler.transform(X_train)\n",
    "X_test = scaler.transform(X_test)\n",
    "\n",
    "parameters = {'max_depth': range(1,11),'max_features': range(4,19)}\n",
    "\n",
    "dtc = tree.DecisionTreeClassifier()\n",
    "\n",
    "clf = GridSearchCV(dtc, parameters)\n",
    "\n",
    "clf.fit(X_train, y_train)\n",
    "\n",
    "clf.best_params_"
   ]
  },
  {
   "cell_type": "markdown",
   "id": "helpful-campus",
   "metadata": {},
   "source": [
    "Произведем кросс-валидацию"
   ]
  },
  {
   "cell_type": "code",
   "execution_count": 24,
   "id": "educational-papua",
   "metadata": {},
   "outputs": [
    {
     "name": "stdout",
     "output_type": "stream",
     "text": [
      "              precision    recall  f1-score   support\n",
      "\n",
      "           0       0.87      0.86      0.87      2266\n",
      "           1       0.60      0.61      0.60       751\n",
      "\n",
      "    accuracy                           0.80      3017\n",
      "   macro avg       0.73      0.74      0.74      3017\n",
      "weighted avg       0.80      0.80      0.80      3017\n",
      "\n",
      "0.8004640371229699\n",
      "              precision    recall  f1-score   support\n",
      "\n",
      "           0       0.87      0.87      0.87      2266\n",
      "           1       0.61      0.61      0.61       751\n",
      "\n",
      "    accuracy                           0.81      3017\n",
      "   macro avg       0.74      0.74      0.74      3017\n",
      "weighted avg       0.81      0.81      0.81      3017\n",
      "\n",
      "0.8070931388796818\n",
      "              precision    recall  f1-score   support\n",
      "\n",
      "           0       0.86      0.86      0.86      2266\n",
      "           1       0.59      0.59      0.59       750\n",
      "\n",
      "    accuracy                           0.80      3016\n",
      "   macro avg       0.73      0.73      0.73      3016\n",
      "weighted avg       0.80      0.80      0.80      3016\n",
      "\n",
      "0.7954244031830239\n",
      "              precision    recall  f1-score   support\n",
      "\n",
      "           0       0.88      0.87      0.87      2266\n",
      "           1       0.62      0.63      0.62       750\n",
      "\n",
      "    accuracy                           0.81      3016\n",
      "   macro avg       0.75      0.75      0.75      3016\n",
      "weighted avg       0.81      0.81      0.81      3016\n",
      "\n",
      "0.8106763925729443\n",
      "              precision    recall  f1-score   support\n",
      "\n",
      "           0       0.88      0.88      0.88      2265\n",
      "           1       0.63      0.63      0.63       751\n",
      "\n",
      "    accuracy                           0.82      3016\n",
      "   macro avg       0.76      0.75      0.76      3016\n",
      "weighted avg       0.82      0.82      0.82      3016\n",
      "\n",
      "0.8176392572944297\n",
      "              precision    recall  f1-score   support\n",
      "\n",
      "           0       0.88      0.87      0.88      2265\n",
      "           1       0.63      0.65      0.64       751\n",
      "\n",
      "    accuracy                           0.82      3016\n",
      "   macro avg       0.76      0.76      0.76      3016\n",
      "weighted avg       0.82      0.82      0.82      3016\n",
      "\n",
      "0.8176392572944297\n",
      "              precision    recall  f1-score   support\n",
      "\n",
      "           0       0.87      0.88      0.88      2265\n",
      "           1       0.63      0.61      0.62       751\n",
      "\n",
      "    accuracy                           0.81      3016\n",
      "   macro avg       0.75      0.75      0.75      3016\n",
      "weighted avg       0.81      0.81      0.81      3016\n",
      "\n",
      "0.8146551724137931\n",
      "              precision    recall  f1-score   support\n",
      "\n",
      "           0       0.88      0.88      0.88      2265\n",
      "           1       0.63      0.64      0.64       751\n",
      "\n",
      "    accuracy                           0.82      3016\n",
      "   macro avg       0.76      0.76      0.76      3016\n",
      "weighted avg       0.82      0.82      0.82      3016\n",
      "\n",
      "0.8186339522546419\n",
      "              precision    recall  f1-score   support\n",
      "\n",
      "           0       0.88      0.88      0.88      2265\n",
      "           1       0.63      0.63      0.63       751\n",
      "\n",
      "    accuracy                           0.82      3016\n",
      "   macro avg       0.76      0.75      0.76      3016\n",
      "weighted avg       0.82      0.82      0.82      3016\n",
      "\n",
      "0.8173076923076923\n",
      "              precision    recall  f1-score   support\n",
      "\n",
      "           0       0.88      0.86      0.87      2265\n",
      "           1       0.61      0.64      0.62       751\n",
      "\n",
      "    accuracy                           0.81      3016\n",
      "   macro avg       0.74      0.75      0.74      3016\n",
      "weighted avg       0.81      0.81      0.81      3016\n",
      "\n",
      "0.8060344827586207\n"
     ]
    }
   ],
   "source": [
    "skf = StratifiedKFold(n_splits=10)\n",
    "for train_index, test_index in skf.split(X, y):\n",
    "  X_train, X_test = X[train_index], X[test_index]\n",
    "  y_train, y_test = y[train_index], y[test_index]\n",
    "  clf = tree.DecisionTreeClassifier(max_depth = 10, max_features = 17)\n",
    "  clf.fit(X_train, y_train)\n",
    "  y_pred = clf.predict(X_test)\n",
    "  print(classification_report(y_test, y_pred))\n",
    "  print(clf.score(X_test, y_test))"
   ]
  },
  {
   "cell_type": "markdown",
   "id": "framed-harmony",
   "metadata": {},
   "source": [
    "Полученные значения на разных итерациях примерно равны. Можно сделать вывод, что данные устойчивы"
   ]
  },
  {
   "cell_type": "markdown",
   "id": "pretty-equivalent",
   "metadata": {},
   "source": [
    "Точность повысилась"
   ]
  },
  {
   "cell_type": "markdown",
   "id": "sixth-junior",
   "metadata": {},
   "source": [
    "## NB"
   ]
  },
  {
   "cell_type": "markdown",
   "id": "induced-healing",
   "metadata": {},
   "source": [
    "Произведем обучение и проверим точность классификации алгоритма NB"
   ]
  },
  {
   "cell_type": "code",
   "execution_count": 31,
   "id": "acute-publisher",
   "metadata": {},
   "outputs": [
    {
     "name": "stdout",
     "output_type": "stream",
     "text": [
      "[[1918 2613]\n",
      " [  58 1444]]\n",
      "              precision    recall  f1-score   support\n",
      "\n",
      "           0       0.97      0.42      0.59      4531\n",
      "           1       0.36      0.96      0.52      1502\n",
      "\n",
      "    accuracy                           0.56      6033\n",
      "   macro avg       0.66      0.69      0.55      6033\n",
      "weighted avg       0.82      0.56      0.57      6033\n",
      "\n"
     ]
    }
   ],
   "source": [
    "from sklearn.naive_bayes import GaussianNB\n",
    "\n",
    "X_train, X_test, y_train, y_test = train_test_split(X, y, test_size=0.20, stratify=y)\n",
    "scaler = StandardScaler()\n",
    "scaler.fit(X_train)\n",
    "\n",
    "X_train = scaler.transform(X_train)\n",
    "X_test = scaler.transform(X_test)\n",
    "\n",
    "clf = GaussianNB()\n",
    "clf.fit(X_train, y_train)\n",
    "\n",
    "y_pred = clf.predict(X_test)\n",
    "print(confusion_matrix(y_test, y_pred))\n",
    "print(classification_report(y_test, y_pred))"
   ]
  },
  {
   "cell_type": "markdown",
   "id": "younger-charter",
   "metadata": {},
   "source": [
    "Произведем поиск гиперпараметров:"
   ]
  },
  {
   "cell_type": "code",
   "execution_count": 37,
   "id": "seasonal-journalist",
   "metadata": {},
   "outputs": [
    {
     "data": {
      "text/plain": [
       "{'var_smoothing': 0.0657933224657568}"
      ]
     },
     "execution_count": 37,
     "metadata": {},
     "output_type": "execute_result"
    }
   ],
   "source": [
    "import numpy as np\n",
    "X_train, X_test, y_train, y_test = train_test_split(X, y, test_size=0.20, stratify=y)\n",
    "scaler = StandardScaler()\n",
    "scaler.fit(X_train)\n",
    "\n",
    "X_train = scaler.transform(X_train)\n",
    "X_test = scaler.transform(X_test)\n",
    "\n",
    "parameters = {'var_smoothing': np.logspace(0,-9, num=100)}\n",
    "\n",
    "gnb = GaussianNB()\n",
    "\n",
    "clf = GridSearchCV(gnb, parameters)\n",
    "\n",
    "clf.fit(X_train, y_train)\n",
    "\n",
    "clf.best_params_"
   ]
  },
  {
   "cell_type": "markdown",
   "id": "suited-sword",
   "metadata": {},
   "source": [
    "Произведем кросс-валидацию"
   ]
  },
  {
   "cell_type": "code",
   "execution_count": 32,
   "id": "located-dream",
   "metadata": {},
   "outputs": [
    {
     "name": "stdout",
     "output_type": "stream",
     "text": [
      "              precision    recall  f1-score   support\n",
      "\n",
      "           0       0.81      0.94      0.87      2266\n",
      "           1       0.65      0.31      0.42       751\n",
      "\n",
      "    accuracy                           0.79      3017\n",
      "   macro avg       0.73      0.63      0.65      3017\n",
      "weighted avg       0.77      0.79      0.76      3017\n",
      "\n",
      "0.7875372886973815\n",
      "              precision    recall  f1-score   support\n",
      "\n",
      "           0       0.81      0.95      0.87      2266\n",
      "           1       0.66      0.31      0.42       751\n",
      "\n",
      "    accuracy                           0.79      3017\n",
      "   macro avg       0.73      0.63      0.65      3017\n",
      "weighted avg       0.77      0.79      0.76      3017\n",
      "\n",
      "0.7888631090487239\n",
      "              precision    recall  f1-score   support\n",
      "\n",
      "           0       0.80      0.94      0.87      2266\n",
      "           1       0.63      0.30      0.41       750\n",
      "\n",
      "    accuracy                           0.78      3016\n",
      "   macro avg       0.72      0.62      0.64      3016\n",
      "weighted avg       0.76      0.78      0.75      3016\n",
      "\n",
      "0.78315649867374\n",
      "              precision    recall  f1-score   support\n",
      "\n",
      "           0       0.81      0.94      0.87      2266\n",
      "           1       0.65      0.31      0.42       750\n",
      "\n",
      "    accuracy                           0.79      3016\n",
      "   macro avg       0.73      0.63      0.65      3016\n",
      "weighted avg       0.77      0.79      0.76      3016\n",
      "\n",
      "0.7868037135278515\n",
      "              precision    recall  f1-score   support\n",
      "\n",
      "           0       0.80      0.95      0.87      2265\n",
      "           1       0.67      0.30      0.41       751\n",
      "\n",
      "    accuracy                           0.79      3016\n",
      "   macro avg       0.74      0.62      0.64      3016\n",
      "weighted avg       0.77      0.79      0.76      3016\n",
      "\n",
      "0.7881299734748011\n",
      "              precision    recall  f1-score   support\n",
      "\n",
      "           0       0.81      0.95      0.88      2265\n",
      "           1       0.69      0.32      0.44       751\n",
      "\n",
      "    accuracy                           0.80      3016\n",
      "   macro avg       0.75      0.64      0.66      3016\n",
      "weighted avg       0.78      0.80      0.77      3016\n",
      "\n",
      "0.7960875331564987\n",
      "              precision    recall  f1-score   support\n",
      "\n",
      "           0       0.80      0.95      0.87      2265\n",
      "           1       0.63      0.27      0.38       751\n",
      "\n",
      "    accuracy                           0.78      3016\n",
      "   macro avg       0.71      0.61      0.62      3016\n",
      "weighted avg       0.76      0.78      0.75      3016\n",
      "\n",
      "0.7795092838196287\n",
      "              precision    recall  f1-score   support\n",
      "\n",
      "           0       0.81      0.95      0.87      2265\n",
      "           1       0.66      0.32      0.43       751\n",
      "\n",
      "    accuracy                           0.79      3016\n",
      "   macro avg       0.73      0.63      0.65      3016\n",
      "weighted avg       0.77      0.79      0.76      3016\n",
      "\n",
      "0.7897877984084881\n",
      "              precision    recall  f1-score   support\n",
      "\n",
      "           0       0.80      0.95      0.87      2265\n",
      "           1       0.66      0.30      0.42       751\n",
      "\n",
      "    accuracy                           0.79      3016\n",
      "   macro avg       0.73      0.63      0.64      3016\n",
      "weighted avg       0.77      0.79      0.76      3016\n",
      "\n",
      "0.7881299734748011\n",
      "              precision    recall  f1-score   support\n",
      "\n",
      "           0       0.81      0.95      0.88      2265\n",
      "           1       0.69      0.34      0.46       751\n",
      "\n",
      "    accuracy                           0.80      3016\n",
      "   macro avg       0.75      0.65      0.67      3016\n",
      "weighted avg       0.78      0.80      0.77      3016\n",
      "\n",
      "0.7980769230769231\n"
     ]
    }
   ],
   "source": [
    "skf = StratifiedKFold(n_splits=10)\n",
    "for train_index, test_index in skf.split(X, y):\n",
    "  X_train, X_test = X[train_index], X[test_index]\n",
    "  y_train, y_test = y[train_index], y[test_index]\n",
    "  clf = GaussianNB(var_smoothing = 0.0657933224657568)\n",
    "  clf.fit(X_train, y_train)\n",
    "  y_pred = clf.predict(X_test)\n",
    "  print(classification_report(y_test, y_pred))\n",
    "  print(clf.score(X_test, y_test))"
   ]
  },
  {
   "cell_type": "markdown",
   "id": "distinguished-mobile",
   "metadata": {},
   "source": [
    "Полученные значения на разных итерациях примерно равны. Можно сделать вывод, что данные устойчивы"
   ]
  },
  {
   "cell_type": "markdown",
   "id": "complete-reputation",
   "metadata": {},
   "source": [
    "Точность примерна равна точности со значением по умолчанию"
   ]
  },
  {
   "cell_type": "markdown",
   "id": "impressed-updating",
   "metadata": {},
   "source": [
    "## SVM"
   ]
  },
  {
   "cell_type": "markdown",
   "id": "infinite-winning",
   "metadata": {},
   "source": [
    "Произведем обучение и проверим точность классификации алгоритма SVM"
   ]
  },
  {
   "cell_type": "code",
   "execution_count": 39,
   "id": "driving-angola",
   "metadata": {},
   "outputs": [
    {
     "name": "stdout",
     "output_type": "stream",
     "text": [
      "[[4201  330]\n",
      " [ 617  885]]\n",
      "              precision    recall  f1-score   support\n",
      "\n",
      "           0       0.87      0.93      0.90      4531\n",
      "           1       0.73      0.59      0.65      1502\n",
      "\n",
      "    accuracy                           0.84      6033\n",
      "   macro avg       0.80      0.76      0.78      6033\n",
      "weighted avg       0.84      0.84      0.84      6033\n",
      "\n"
     ]
    }
   ],
   "source": [
    "from sklearn import svm\n",
    "\n",
    "X_train, X_test, y_train, y_test = train_test_split(X, y, test_size=0.20, stratify=y)\n",
    "scaler = StandardScaler()\n",
    "scaler.fit(X_train)\n",
    "\n",
    "X_train = scaler.transform(X_train)\n",
    "X_test = scaler.transform(X_test)\n",
    "\n",
    "clf = svm.SVC()\n",
    "clf.fit(X_train, y_train)\n",
    "\n",
    "y_pred = clf.predict(X_test)\n",
    "print(confusion_matrix(y_test, y_pred))\n",
    "print(classification_report(y_test, y_pred))"
   ]
  },
  {
   "cell_type": "markdown",
   "id": "imperial-serve",
   "metadata": {},
   "source": [
    "В связи с чрезмерно долгим сроком выполнения поиска гиперпараметров для данного алгоритма, поиск не выполнялся"
   ]
  },
  {
   "cell_type": "markdown",
   "id": "greek-executive",
   "metadata": {},
   "source": [
    "Произведем кросс-валидацию"
   ]
  },
  {
   "cell_type": "code",
   "execution_count": 40,
   "id": "fundamental-gateway",
   "metadata": {},
   "outputs": [
    {
     "name": "stdout",
     "output_type": "stream",
     "text": [
      "              precision    recall  f1-score   support\n",
      "\n",
      "           0       0.78      1.00      0.88      2266\n",
      "           1       0.98      0.16      0.27       751\n",
      "\n",
      "    accuracy                           0.79      3017\n",
      "   macro avg       0.88      0.58      0.57      3017\n",
      "weighted avg       0.83      0.79      0.73      3017\n",
      "\n",
      "0.7891945641365595\n",
      "              precision    recall  f1-score   support\n",
      "\n",
      "           0       0.78      1.00      0.88      2266\n",
      "           1       0.95      0.16      0.28       751\n",
      "\n",
      "    accuracy                           0.79      3017\n",
      "   macro avg       0.87      0.58      0.58      3017\n",
      "weighted avg       0.83      0.79      0.73      3017\n",
      "\n",
      "0.7898574743122307\n",
      "              precision    recall  f1-score   support\n",
      "\n",
      "           0       0.78      1.00      0.88      2266\n",
      "           1       0.97      0.15      0.26       750\n",
      "\n",
      "    accuracy                           0.79      3016\n",
      "   macro avg       0.88      0.57      0.57      3016\n",
      "weighted avg       0.83      0.79      0.72      3016\n",
      "\n",
      "0.7871352785145889\n",
      "              precision    recall  f1-score   support\n",
      "\n",
      "           0       0.78      1.00      0.88      2266\n",
      "           1       0.96      0.15      0.25       750\n",
      "\n",
      "    accuracy                           0.79      3016\n",
      "   macro avg       0.87      0.57      0.56      3016\n",
      "weighted avg       0.82      0.79      0.72      3016\n",
      "\n",
      "0.7861405835543767\n",
      "              precision    recall  f1-score   support\n",
      "\n",
      "           0       0.78      1.00      0.88      2265\n",
      "           1       0.97      0.15      0.26       751\n",
      "\n",
      "    accuracy                           0.79      3016\n",
      "   macro avg       0.87      0.58      0.57      3016\n",
      "weighted avg       0.83      0.79      0.72      3016\n",
      "\n",
      "0.7874668435013262\n",
      "              precision    recall  f1-score   support\n",
      "\n",
      "           0       0.78      1.00      0.88      2265\n",
      "           1       1.00      0.15      0.26       751\n",
      "\n",
      "    accuracy                           0.79      3016\n",
      "   macro avg       0.89      0.58      0.57      3016\n",
      "weighted avg       0.84      0.79      0.72      3016\n",
      "\n",
      "0.7887931034482759\n",
      "              precision    recall  f1-score   support\n",
      "\n",
      "           0       0.78      1.00      0.88      2265\n",
      "           1       0.96      0.15      0.25       751\n",
      "\n",
      "    accuracy                           0.79      3016\n",
      "   macro avg       0.87      0.57      0.56      3016\n",
      "weighted avg       0.83      0.79      0.72      3016\n",
      "\n",
      "0.7858090185676393\n",
      "              precision    recall  f1-score   support\n",
      "\n",
      "           0       0.78      1.00      0.88      2265\n",
      "           1       1.00      0.17      0.29       751\n",
      "\n",
      "    accuracy                           0.79      3016\n",
      "   macro avg       0.89      0.59      0.59      3016\n",
      "weighted avg       0.84      0.79      0.73      3016\n",
      "\n",
      "0.7937665782493368\n",
      "              precision    recall  f1-score   support\n",
      "\n",
      "           0       0.78      1.00      0.88      2265\n",
      "           1       0.99      0.16      0.27       751\n",
      "\n",
      "    accuracy                           0.79      3016\n",
      "   macro avg       0.89      0.58      0.57      3016\n",
      "weighted avg       0.83      0.79      0.73      3016\n",
      "\n",
      "0.7894562334217506\n",
      "              precision    recall  f1-score   support\n",
      "\n",
      "           0       0.78      1.00      0.88      2265\n",
      "           1       0.97      0.15      0.26       751\n",
      "\n",
      "    accuracy                           0.79      3016\n",
      "   macro avg       0.88      0.57      0.57      3016\n",
      "weighted avg       0.83      0.79      0.72      3016\n",
      "\n",
      "0.7868037135278515\n"
     ]
    }
   ],
   "source": [
    "skf = StratifiedKFold(n_splits=10)\n",
    "for train_index, test_index in skf.split(X, y):\n",
    "  X_train, X_test = X[train_index], X[test_index]\n",
    "  y_train, y_test = y[train_index], y[test_index]\n",
    "  clf = svm.SVC()\n",
    "  clf.fit(X_train, y_train)\n",
    "  y_pred = clf.predict(X_test)\n",
    "  print(classification_report(y_test, y_pred))\n",
    "  print(clf.score(X_test, y_test))"
   ]
  },
  {
   "cell_type": "markdown",
   "id": "growing-rouge",
   "metadata": {},
   "source": [
    "Полученные значения на разных итерациях примерно равны. Можно сделать вывод, что данные устойчивы"
   ]
  },
  {
   "cell_type": "markdown",
   "id": "thrown-builder",
   "metadata": {},
   "source": [
    "## LR"
   ]
  },
  {
   "cell_type": "markdown",
   "id": "single-location",
   "metadata": {},
   "source": [
    "Произведем обучение и проверим точность классификации алгоритма LR"
   ]
  },
  {
   "cell_type": "code",
   "execution_count": 9,
   "id": "forward-activation",
   "metadata": {},
   "outputs": [
    {
     "name": "stdout",
     "output_type": "stream",
     "text": [
      "[[4206  325]\n",
      " [ 601  901]]\n",
      "              precision    recall  f1-score   support\n",
      "\n",
      "           0       0.87      0.93      0.90      4531\n",
      "           1       0.73      0.60      0.66      1502\n",
      "\n",
      "    accuracy                           0.85      6033\n",
      "   macro avg       0.80      0.76      0.78      6033\n",
      "weighted avg       0.84      0.85      0.84      6033\n",
      "\n"
     ]
    }
   ],
   "source": [
    "from sklearn.linear_model import LogisticRegression\n",
    "\n",
    "X_train, X_test, y_train, y_test = train_test_split(X, y, test_size=0.20, stratify=y)\n",
    "scaler = StandardScaler()\n",
    "scaler.fit(X_train)\n",
    "\n",
    "X_train = scaler.transform(X_train)\n",
    "X_test = scaler.transform(X_test)\n",
    "\n",
    "clf = LogisticRegression()\n",
    "clf.fit(X_train, y_train)\n",
    "\n",
    "y_pred = clf.predict(X_test)\n",
    "print(confusion_matrix(y_test, y_pred))\n",
    "print(classification_report(y_test, y_pred))"
   ]
  },
  {
   "cell_type": "markdown",
   "id": "auburn-pencil",
   "metadata": {},
   "source": [
    "Произведем поиск гиперпараметров:"
   ]
  },
  {
   "cell_type": "code",
   "execution_count": 22,
   "id": "planned-audit",
   "metadata": {},
   "outputs": [
    {
     "data": {
      "text/plain": [
       "{'C': 100}"
      ]
     },
     "execution_count": 22,
     "metadata": {},
     "output_type": "execute_result"
    }
   ],
   "source": [
    "X_train, X_test, y_train, y_test = train_test_split(X, y, test_size=0.20, stratify=y)\n",
    "scaler = StandardScaler()\n",
    "scaler.fit(X_train)\n",
    "\n",
    "X_train = scaler.transform(X_train)\n",
    "X_test = scaler.transform(X_test)\n",
    "\n",
    "parameters = {'C': [100, 10, 1.0, 0.1, 0.01]}\n",
    "\n",
    "lr = LogisticRegression()\n",
    "\n",
    "clf = GridSearchCV(lr, parameters)\n",
    "\n",
    "clf.fit(X_train, y_train)\n",
    "\n",
    "clf.best_params_"
   ]
  },
  {
   "cell_type": "markdown",
   "id": "available-blues",
   "metadata": {},
   "source": [
    "Произведем кросс-валидацию"
   ]
  },
  {
   "cell_type": "code",
   "execution_count": 24,
   "id": "brutal-uganda",
   "metadata": {},
   "outputs": [
    {
     "name": "stdout",
     "output_type": "stream",
     "text": [
      "              precision    recall  f1-score   support\n",
      "\n",
      "           0       0.80      0.96      0.87      2266\n",
      "           1       0.70      0.27      0.39       751\n",
      "\n",
      "    accuracy                           0.79      3017\n",
      "   macro avg       0.75      0.61      0.63      3017\n",
      "weighted avg       0.77      0.79      0.75      3017\n",
      "\n",
      "0.7895260192243951\n",
      "              precision    recall  f1-score   support\n",
      "\n",
      "           0       0.80      0.97      0.87      2266\n",
      "           1       0.72      0.26      0.39       751\n",
      "\n",
      "    accuracy                           0.79      3017\n",
      "   macro avg       0.76      0.62      0.63      3017\n",
      "weighted avg       0.78      0.79      0.75      3017\n",
      "\n",
      "0.7918462048392443\n",
      "              precision    recall  f1-score   support\n",
      "\n",
      "           0       0.80      0.96      0.87      2266\n",
      "           1       0.69      0.26      0.38       750\n",
      "\n",
      "    accuracy                           0.79      3016\n",
      "   macro avg       0.74      0.61      0.63      3016\n",
      "weighted avg       0.77      0.79      0.75      3016\n",
      "\n",
      "0.7871352785145889\n",
      "              precision    recall  f1-score   support\n",
      "\n",
      "           0       0.80      0.96      0.87      2266\n",
      "           1       0.70      0.27      0.39       750\n",
      "\n",
      "    accuracy                           0.79      3016\n",
      "   macro avg       0.75      0.62      0.63      3016\n",
      "weighted avg       0.77      0.79      0.75      3016\n",
      "\n",
      "0.7897877984084881\n",
      "              precision    recall  f1-score   support\n",
      "\n",
      "           0       0.79      0.96      0.87      2265\n",
      "           1       0.69      0.25      0.37       751\n",
      "\n",
      "    accuracy                           0.79      3016\n",
      "   macro avg       0.74      0.61      0.62      3016\n",
      "weighted avg       0.77      0.79      0.75      3016\n",
      "\n",
      "0.7854774535809018\n",
      "              precision    recall  f1-score   support\n",
      "\n",
      "           0       0.80      0.97      0.88      2265\n",
      "           1       0.76      0.28      0.41       751\n",
      "\n",
      "    accuracy                           0.80      3016\n",
      "   macro avg       0.78      0.63      0.65      3016\n",
      "weighted avg       0.79      0.80      0.76      3016\n",
      "\n",
      "0.7997347480106101\n",
      "              precision    recall  f1-score   support\n",
      "\n",
      "           0       0.79      0.96      0.87      2265\n",
      "           1       0.68      0.25      0.36       751\n",
      "\n",
      "    accuracy                           0.78      3016\n",
      "   macro avg       0.74      0.60      0.62      3016\n",
      "weighted avg       0.76      0.78      0.74      3016\n",
      "\n",
      "0.78315649867374\n",
      "              precision    recall  f1-score   support\n",
      "\n",
      "           0       0.80      0.97      0.88      2265\n",
      "           1       0.73      0.27      0.39       751\n",
      "\n",
      "    accuracy                           0.79      3016\n",
      "   macro avg       0.77      0.62      0.64      3016\n",
      "weighted avg       0.78      0.79      0.76      3016\n",
      "\n",
      "0.7934350132625995\n",
      "              precision    recall  f1-score   support\n",
      "\n",
      "           0       0.80      0.96      0.87      2265\n",
      "           1       0.70      0.27      0.39       751\n",
      "\n",
      "    accuracy                           0.79      3016\n",
      "   macro avg       0.75      0.62      0.63      3016\n",
      "weighted avg       0.77      0.79      0.75      3016\n",
      "\n",
      "0.7894562334217506\n",
      "              precision    recall  f1-score   support\n",
      "\n",
      "           0       0.80      0.97      0.88      2265\n",
      "           1       0.72      0.28      0.40       751\n",
      "\n",
      "    accuracy                           0.79      3016\n",
      "   macro avg       0.76      0.62      0.64      3016\n",
      "weighted avg       0.78      0.79      0.76      3016\n",
      "\n",
      "0.7937665782493368\n"
     ]
    }
   ],
   "source": [
    "skf = StratifiedKFold(n_splits=10)\n",
    "for train_index, test_index in skf.split(X, y):\n",
    "  X_train, X_test = X[train_index], X[test_index]\n",
    "  y_train, y_test = y[train_index], y[test_index]\n",
    "  clf = LogisticRegression()\n",
    "  clf.fit(X_train, y_train)\n",
    "  y_pred = clf.predict(X_test)\n",
    "  print(classification_report(y_test, y_pred))\n",
    "  print(clf.score(X_test, y_test))"
   ]
  },
  {
   "cell_type": "markdown",
   "id": "smaller-wales",
   "metadata": {},
   "source": [
    "Полученные значения на разных итерациях примерно равны. Можно сделать вывод, что данные устойчивы"
   ]
  },
  {
   "cell_type": "markdown",
   "id": "supreme-dream",
   "metadata": {},
   "source": [
    "## Выводы по работе алгоритмов на данной модели"
   ]
  },
  {
   "cell_type": "markdown",
   "id": "published-bride",
   "metadata": {},
   "source": [
    "Лучшие результаты показал SVC"
   ]
  },
  {
   "cell_type": "code",
   "execution_count": 60,
   "id": "dominican-headset",
   "metadata": {},
   "outputs": [
    {
     "ename": "IndentationError",
     "evalue": "expected an indented block (abcqwe.py, line 7)",
     "output_type": "error",
     "traceback": [
      "Traceback \u001b[1;36m(most recent call last)\u001b[0m:\n",
      "  File \u001b[0;32m\"c:\\users\\keiser\\appdata\\local\\programs\\python\\python39\\lib\\site-packages\\IPython\\core\\interactiveshell.py\"\u001b[0m, line \u001b[0;32m3427\u001b[0m, in \u001b[0;35mrun_code\u001b[0m\n    exec(code_obj, self.user_global_ns, self.user_ns)\n",
      "\u001b[1;36m  File \u001b[1;32m\"<ipython-input-60-f14a50a63b01>\"\u001b[1;36m, line \u001b[1;32m1\u001b[1;36m, in \u001b[1;35m<module>\u001b[1;36m\u001b[0m\n\u001b[1;33m    import abcqwe\u001b[0m\n",
      "\u001b[1;36m  File \u001b[1;32m\"D:\\ML\\machine_learning\\notebooks\\abcqwe.py\"\u001b[1;36m, line \u001b[1;32m7\u001b[0m\n\u001b[1;33m    votes = [0] * len(y_train)\u001b[0m\n\u001b[1;37m    ^\u001b[0m\n\u001b[1;31mIndentationError\u001b[0m\u001b[1;31m:\u001b[0m expected an indented block\n"
     ]
    }
   ],
   "source": [
    "import abcqwe\n",
    "X_train, X_test, y_train, y_test = train_test_split(X, y, test_size=0.20, stratify=y)\n",
    "scaler = StandardScaler()\n",
    "scaler.fit(X_train)\n",
    "\n",
    "X_train = scaler.transform(X_train)\n",
    "X_test = scaler.transform(X_test)\n",
    "\n",
    "test = abcqwe(X_train, X_test, y_train, y_test, 5)\n",
    "len(y_train)"
   ]
  },
  {
   "cell_type": "code",
   "execution_count": null,
   "id": "fiscal-aquarium",
   "metadata": {},
   "outputs": [],
   "source": []
  }
 ],
 "metadata": {
  "kernelspec": {
   "display_name": "Python 3",
   "language": "python",
   "name": "python3"
  },
  "language_info": {
   "codemirror_mode": {
    "name": "ipython",
    "version": 3
   },
   "file_extension": ".py",
   "mimetype": "text/x-python",
   "name": "python",
   "nbconvert_exporter": "python",
   "pygments_lexer": "ipython3",
   "version": "3.9.1"
  }
 },
 "nbformat": 4,
 "nbformat_minor": 5
}
